{
 "cells": [
  {
   "cell_type": "code",
   "execution_count": 1,
   "id": "40264e8e",
   "metadata": {
    "_cell_guid": "b1076dfc-b9ad-4769-8c92-a6c4dae69d19",
    "_uuid": "8f2839f25d086af736a60e9eeb907d3b93b6e0e5",
    "execution": {
     "iopub.execute_input": "2024-01-07T02:21:32.856479Z",
     "iopub.status.busy": "2024-01-07T02:21:32.855973Z",
     "iopub.status.idle": "2024-01-07T02:21:33.219327Z",
     "shell.execute_reply": "2024-01-07T02:21:33.218302Z"
    },
    "papermill": {
     "duration": 0.371948,
     "end_time": "2024-01-07T02:21:33.221805",
     "exception": false,
     "start_time": "2024-01-07T02:21:32.849857",
     "status": "completed"
    },
    "tags": []
   },
   "outputs": [
    {
     "name": "stdout",
     "output_type": "stream",
     "text": [
      "/kaggle/input/kmeans/Untitled 1.xlsx\n"
     ]
    }
   ],
   "source": [
    "# This Python 3 environment comes with many helpful analytics libraries installed\n",
    "# It is defined by the kaggle/python Docker image: https://github.com/kaggle/docker-python\n",
    "# For example, here's several helpful packages to load\n",
    "\n",
    "import numpy as np # linear algebra\n",
    "import pandas as pd # data processing, CSV file I/O (e.g. pd.read_csv)\n",
    "\n",
    "# Input data files are available in the read-only \"../input/\" directory\n",
    "# For example, running this (by clicking run or pressing Shift+Enter) will list all files under the input directory\n",
    "\n",
    "import os\n",
    "for dirname, _, filenames in os.walk('/kaggle/input'):\n",
    "    for filename in filenames:\n",
    "        print(os.path.join(dirname, filename))\n",
    "\n",
    "# You can write up to 20GB to the current directory (/kaggle/working/) that gets preserved as output when you create a version using \"Save & Run All\" \n",
    "# You can also write temporary files to /kaggle/temp/, but they won't be saved outside of the current session"
   ]
  },
  {
   "cell_type": "code",
   "execution_count": 2,
   "id": "eb6ed37b",
   "metadata": {
    "execution": {
     "iopub.execute_input": "2024-01-07T02:21:33.232393Z",
     "iopub.status.busy": "2024-01-07T02:21:33.230991Z",
     "iopub.status.idle": "2024-01-07T02:21:33.237037Z",
     "shell.execute_reply": "2024-01-07T02:21:33.235468Z"
    },
    "papermill": {
     "duration": 0.013081,
     "end_time": "2024-01-07T02:21:33.238876",
     "exception": false,
     "start_time": "2024-01-07T02:21:33.225795",
     "status": "completed"
    },
    "tags": []
   },
   "outputs": [],
   "source": [
    "import pandas as pd\n",
    "import numpy as np"
   ]
  },
  {
   "cell_type": "code",
   "execution_count": 3,
   "id": "e8776f05",
   "metadata": {
    "execution": {
     "iopub.execute_input": "2024-01-07T02:21:33.246982Z",
     "iopub.status.busy": "2024-01-07T02:21:33.246629Z",
     "iopub.status.idle": "2024-01-07T02:21:33.568050Z",
     "shell.execute_reply": "2024-01-07T02:21:33.566305Z"
    },
    "papermill": {
     "duration": 0.328824,
     "end_time": "2024-01-07T02:21:33.571044",
     "exception": false,
     "start_time": "2024-01-07T02:21:33.242220",
     "status": "completed"
    },
    "tags": []
   },
   "outputs": [],
   "source": [
    "df = pd.read_excel(\"/kaggle/input/kmeans/Untitled 1.xlsx\")"
   ]
  },
  {
   "cell_type": "code",
   "execution_count": 4,
   "id": "73c3827d",
   "metadata": {
    "execution": {
     "iopub.execute_input": "2024-01-07T02:21:33.581133Z",
     "iopub.status.busy": "2024-01-07T02:21:33.580142Z",
     "iopub.status.idle": "2024-01-07T02:21:33.590604Z",
     "shell.execute_reply": "2024-01-07T02:21:33.589660Z"
    },
    "papermill": {
     "duration": 0.018434,
     "end_time": "2024-01-07T02:21:33.593607",
     "exception": false,
     "start_time": "2024-01-07T02:21:33.575173",
     "status": "completed"
    },
    "tags": []
   },
   "outputs": [],
   "source": [
    "df.index = df['names']"
   ]
  },
  {
   "cell_type": "code",
   "execution_count": 5,
   "id": "7d392c96",
   "metadata": {
    "execution": {
     "iopub.execute_input": "2024-01-07T02:21:33.603334Z",
     "iopub.status.busy": "2024-01-07T02:21:33.603027Z",
     "iopub.status.idle": "2024-01-07T02:21:33.624228Z",
     "shell.execute_reply": "2024-01-07T02:21:33.623183Z"
    },
    "papermill": {
     "duration": 0.028748,
     "end_time": "2024-01-07T02:21:33.626663",
     "exception": false,
     "start_time": "2024-01-07T02:21:33.597915",
     "status": "completed"
    },
    "tags": []
   },
   "outputs": [
    {
     "data": {
      "text/html": [
       "<div>\n",
       "<style scoped>\n",
       "    .dataframe tbody tr th:only-of-type {\n",
       "        vertical-align: middle;\n",
       "    }\n",
       "\n",
       "    .dataframe tbody tr th {\n",
       "        vertical-align: top;\n",
       "    }\n",
       "\n",
       "    .dataframe thead th {\n",
       "        text-align: right;\n",
       "    }\n",
       "</style>\n",
       "<table border=\"1\" class=\"dataframe\">\n",
       "  <thead>\n",
       "    <tr style=\"text-align: right;\">\n",
       "      <th></th>\n",
       "      <th>names</th>\n",
       "      <th>m1</th>\n",
       "      <th>m2</th>\n",
       "    </tr>\n",
       "    <tr>\n",
       "      <th>names</th>\n",
       "      <th></th>\n",
       "      <th></th>\n",
       "      <th></th>\n",
       "    </tr>\n",
       "  </thead>\n",
       "  <tbody>\n",
       "    <tr>\n",
       "      <th>ram</th>\n",
       "      <td>ram</td>\n",
       "      <td>5.0</td>\n",
       "      <td>4.0</td>\n",
       "    </tr>\n",
       "    <tr>\n",
       "      <th>shyam</th>\n",
       "      <td>shyam</td>\n",
       "      <td>4.5</td>\n",
       "      <td>4.0</td>\n",
       "    </tr>\n",
       "    <tr>\n",
       "      <th>hari</th>\n",
       "      <td>hari</td>\n",
       "      <td>3.5</td>\n",
       "      <td>4.5</td>\n",
       "    </tr>\n",
       "    <tr>\n",
       "      <th>sita</th>\n",
       "      <td>sita</td>\n",
       "      <td>3.0</td>\n",
       "      <td>2.0</td>\n",
       "    </tr>\n",
       "    <tr>\n",
       "      <th>gita</th>\n",
       "      <td>gita</td>\n",
       "      <td>2.5</td>\n",
       "      <td>3.0</td>\n",
       "    </tr>\n",
       "    <tr>\n",
       "      <th>harka</th>\n",
       "      <td>harka</td>\n",
       "      <td>2.0</td>\n",
       "      <td>2.0</td>\n",
       "    </tr>\n",
       "    <tr>\n",
       "      <th>susjamnt</th>\n",
       "      <td>susjamnt</td>\n",
       "      <td>5.0</td>\n",
       "      <td>5.0</td>\n",
       "    </tr>\n",
       "    <tr>\n",
       "      <th>avash</th>\n",
       "      <td>avash</td>\n",
       "      <td>4.5</td>\n",
       "      <td>3.0</td>\n",
       "    </tr>\n",
       "  </tbody>\n",
       "</table>\n",
       "</div>"
      ],
      "text/plain": [
       "             names   m1   m2\n",
       "names                       \n",
       "ram            ram  5.0  4.0\n",
       "shyam        shyam  4.5  4.0\n",
       "hari          hari  3.5  4.5\n",
       "sita          sita  3.0  2.0\n",
       "gita          gita  2.5  3.0\n",
       "harka        harka  2.0  2.0\n",
       "susjamnt  susjamnt  5.0  5.0\n",
       "avash        avash  4.5  3.0"
      ]
     },
     "execution_count": 5,
     "metadata": {},
     "output_type": "execute_result"
    }
   ],
   "source": [
    "df"
   ]
  },
  {
   "cell_type": "code",
   "execution_count": 6,
   "id": "f58d286e",
   "metadata": {
    "execution": {
     "iopub.execute_input": "2024-01-07T02:21:33.636348Z",
     "iopub.status.busy": "2024-01-07T02:21:33.635786Z",
     "iopub.status.idle": "2024-01-07T02:21:33.645446Z",
     "shell.execute_reply": "2024-01-07T02:21:33.644796Z"
    },
    "papermill": {
     "duration": 0.016818,
     "end_time": "2024-01-07T02:21:33.647393",
     "exception": false,
     "start_time": "2024-01-07T02:21:33.630575",
     "status": "completed"
    },
    "tags": []
   },
   "outputs": [],
   "source": [
    "new_df = df[['m1','m2']]"
   ]
  },
  {
   "cell_type": "code",
   "execution_count": 7,
   "id": "b65192af",
   "metadata": {
    "execution": {
     "iopub.execute_input": "2024-01-07T02:21:33.656294Z",
     "iopub.status.busy": "2024-01-07T02:21:33.655781Z",
     "iopub.status.idle": "2024-01-07T02:21:33.667099Z",
     "shell.execute_reply": "2024-01-07T02:21:33.665865Z"
    },
    "papermill": {
     "duration": 0.017812,
     "end_time": "2024-01-07T02:21:33.669037",
     "exception": false,
     "start_time": "2024-01-07T02:21:33.651225",
     "status": "completed"
    },
    "tags": []
   },
   "outputs": [
    {
     "data": {
      "text/html": [
       "<div>\n",
       "<style scoped>\n",
       "    .dataframe tbody tr th:only-of-type {\n",
       "        vertical-align: middle;\n",
       "    }\n",
       "\n",
       "    .dataframe tbody tr th {\n",
       "        vertical-align: top;\n",
       "    }\n",
       "\n",
       "    .dataframe thead th {\n",
       "        text-align: right;\n",
       "    }\n",
       "</style>\n",
       "<table border=\"1\" class=\"dataframe\">\n",
       "  <thead>\n",
       "    <tr style=\"text-align: right;\">\n",
       "      <th></th>\n",
       "      <th>m1</th>\n",
       "      <th>m2</th>\n",
       "    </tr>\n",
       "    <tr>\n",
       "      <th>names</th>\n",
       "      <th></th>\n",
       "      <th></th>\n",
       "    </tr>\n",
       "  </thead>\n",
       "  <tbody>\n",
       "    <tr>\n",
       "      <th>ram</th>\n",
       "      <td>5.0</td>\n",
       "      <td>4.0</td>\n",
       "    </tr>\n",
       "    <tr>\n",
       "      <th>shyam</th>\n",
       "      <td>4.5</td>\n",
       "      <td>4.0</td>\n",
       "    </tr>\n",
       "    <tr>\n",
       "      <th>hari</th>\n",
       "      <td>3.5</td>\n",
       "      <td>4.5</td>\n",
       "    </tr>\n",
       "    <tr>\n",
       "      <th>sita</th>\n",
       "      <td>3.0</td>\n",
       "      <td>2.0</td>\n",
       "    </tr>\n",
       "    <tr>\n",
       "      <th>gita</th>\n",
       "      <td>2.5</td>\n",
       "      <td>3.0</td>\n",
       "    </tr>\n",
       "    <tr>\n",
       "      <th>harka</th>\n",
       "      <td>2.0</td>\n",
       "      <td>2.0</td>\n",
       "    </tr>\n",
       "    <tr>\n",
       "      <th>susjamnt</th>\n",
       "      <td>5.0</td>\n",
       "      <td>5.0</td>\n",
       "    </tr>\n",
       "    <tr>\n",
       "      <th>avash</th>\n",
       "      <td>4.5</td>\n",
       "      <td>3.0</td>\n",
       "    </tr>\n",
       "  </tbody>\n",
       "</table>\n",
       "</div>"
      ],
      "text/plain": [
       "           m1   m2\n",
       "names             \n",
       "ram       5.0  4.0\n",
       "shyam     4.5  4.0\n",
       "hari      3.5  4.5\n",
       "sita      3.0  2.0\n",
       "gita      2.5  3.0\n",
       "harka     2.0  2.0\n",
       "susjamnt  5.0  5.0\n",
       "avash     4.5  3.0"
      ]
     },
     "execution_count": 7,
     "metadata": {},
     "output_type": "execute_result"
    }
   ],
   "source": [
    "new_df"
   ]
  },
  {
   "cell_type": "code",
   "execution_count": 8,
   "id": "2fd7bcf3",
   "metadata": {
    "execution": {
     "iopub.execute_input": "2024-01-07T02:21:33.678480Z",
     "iopub.status.busy": "2024-01-07T02:21:33.677861Z",
     "iopub.status.idle": "2024-01-07T02:21:33.684154Z",
     "shell.execute_reply": "2024-01-07T02:21:33.682378Z"
    },
    "papermill": {
     "duration": 0.01356,
     "end_time": "2024-01-07T02:21:33.686533",
     "exception": false,
     "start_time": "2024-01-07T02:21:33.672973",
     "status": "completed"
    },
    "tags": []
   },
   "outputs": [],
   "source": [
    "c1 = [5,4]\n",
    "c2 = [2,2]"
   ]
  },
  {
   "cell_type": "code",
   "execution_count": 9,
   "id": "9c4df6d5",
   "metadata": {
    "execution": {
     "iopub.execute_input": "2024-01-07T02:21:33.697726Z",
     "iopub.status.busy": "2024-01-07T02:21:33.697330Z",
     "iopub.status.idle": "2024-01-07T02:21:33.702795Z",
     "shell.execute_reply": "2024-01-07T02:21:33.701925Z"
    },
    "papermill": {
     "duration": 0.012634,
     "end_time": "2024-01-07T02:21:33.704403",
     "exception": false,
     "start_time": "2024-01-07T02:21:33.691769",
     "status": "completed"
    },
    "tags": []
   },
   "outputs": [],
   "source": [
    "def distance(x,y):\n",
    "    return sum((x-y)**2)**0.5"
   ]
  },
  {
   "cell_type": "code",
   "execution_count": 10,
   "id": "b9a9dd39",
   "metadata": {
    "execution": {
     "iopub.execute_input": "2024-01-07T02:21:33.713828Z",
     "iopub.status.busy": "2024-01-07T02:21:33.713345Z",
     "iopub.status.idle": "2024-01-07T02:21:33.717692Z",
     "shell.execute_reply": "2024-01-07T02:21:33.716900Z"
    },
    "papermill": {
     "duration": 0.011485,
     "end_time": "2024-01-07T02:21:33.719534",
     "exception": false,
     "start_time": "2024-01-07T02:21:33.708049",
     "status": "completed"
    },
    "tags": []
   },
   "outputs": [],
   "source": [
    "new_df = np.array(new_df)"
   ]
  },
  {
   "cell_type": "code",
   "execution_count": 11,
   "id": "c77f784a",
   "metadata": {
    "execution": {
     "iopub.execute_input": "2024-01-07T02:21:33.730676Z",
     "iopub.status.busy": "2024-01-07T02:21:33.729962Z",
     "iopub.status.idle": "2024-01-07T02:21:33.736754Z",
     "shell.execute_reply": "2024-01-07T02:21:33.735838Z"
    },
    "papermill": {
     "duration": 0.014962,
     "end_time": "2024-01-07T02:21:33.738865",
     "exception": false,
     "start_time": "2024-01-07T02:21:33.723903",
     "status": "completed"
    },
    "tags": []
   },
   "outputs": [
    {
     "data": {
      "text/plain": [
       "array([[5. , 4. ],\n",
       "       [4.5, 4. ],\n",
       "       [3.5, 4.5],\n",
       "       [3. , 2. ],\n",
       "       [2.5, 3. ],\n",
       "       [2. , 2. ],\n",
       "       [5. , 5. ],\n",
       "       [4.5, 3. ]])"
      ]
     },
     "execution_count": 11,
     "metadata": {},
     "output_type": "execute_result"
    }
   ],
   "source": [
    "new_df"
   ]
  },
  {
   "cell_type": "code",
   "execution_count": 12,
   "id": "a99931b1",
   "metadata": {
    "execution": {
     "iopub.execute_input": "2024-01-07T02:21:33.748193Z",
     "iopub.status.busy": "2024-01-07T02:21:33.747800Z",
     "iopub.status.idle": "2024-01-07T02:21:33.756372Z",
     "shell.execute_reply": "2024-01-07T02:21:33.755377Z"
    },
    "papermill": {
     "duration": 0.016538,
     "end_time": "2024-01-07T02:21:33.759157",
     "exception": false,
     "start_time": "2024-01-07T02:21:33.742619",
     "status": "completed"
    },
    "tags": []
   },
   "outputs": [
    {
     "data": {
      "text/plain": [
       "[0.0,\n",
       " 0.5,\n",
       " 1.5811388300841898,\n",
       " 2.8284271247461903,\n",
       " 2.692582403567252,\n",
       " 3.605551275463989,\n",
       " 1.0,\n",
       " 1.118033988749895]"
      ]
     },
     "execution_count": 12,
     "metadata": {},
     "output_type": "execute_result"
    }
   ],
   "source": [
    "dist = []\n",
    "for  i in  new_df:\n",
    "    x = distance(c1,i)\n",
    "    dist.append(x)\n",
    "dist"
   ]
  },
  {
   "cell_type": "code",
   "execution_count": 13,
   "id": "50e43952",
   "metadata": {
    "execution": {
     "iopub.execute_input": "2024-01-07T02:21:33.770467Z",
     "iopub.status.busy": "2024-01-07T02:21:33.769441Z",
     "iopub.status.idle": "2024-01-07T02:21:33.776873Z",
     "shell.execute_reply": "2024-01-07T02:21:33.775904Z"
    },
    "papermill": {
     "duration": 0.01477,
     "end_time": "2024-01-07T02:21:33.778779",
     "exception": false,
     "start_time": "2024-01-07T02:21:33.764009",
     "status": "completed"
    },
    "tags": []
   },
   "outputs": [
    {
     "data": {
      "text/plain": [
       "[3.605551275463989,\n",
       " 3.2015621187164243,\n",
       " 2.9154759474226504,\n",
       " 1.0,\n",
       " 1.118033988749895,\n",
       " 0.0,\n",
       " 4.242640687119285,\n",
       " 2.692582403567252]"
      ]
     },
     "execution_count": 13,
     "metadata": {},
     "output_type": "execute_result"
    }
   ],
   "source": [
    "dist1 = []\n",
    "for  i in  new_df:\n",
    "    x = distance(c2,i)\n",
    "    dist1.append(x)\n",
    "dist1"
   ]
  },
  {
   "cell_type": "code",
   "execution_count": null,
   "id": "00f39438",
   "metadata": {
    "papermill": {
     "duration": 0.003694,
     "end_time": "2024-01-07T02:21:33.786679",
     "exception": false,
     "start_time": "2024-01-07T02:21:33.782985",
     "status": "completed"
    },
    "tags": []
   },
   "outputs": [],
   "source": []
  }
 ],
 "metadata": {
  "kaggle": {
   "accelerator": "none",
   "dataSources": [
    {
     "datasetId": 4195223,
     "sourceId": 7242848,
     "sourceType": "datasetVersion"
    }
   ],
   "dockerImageVersionId": 30626,
   "isGpuEnabled": false,
   "isInternetEnabled": true,
   "language": "python",
   "sourceType": "notebook"
  },
  "kernelspec": {
   "display_name": "Python 3",
   "language": "python",
   "name": "python3"
  },
  "language_info": {
   "codemirror_mode": {
    "name": "ipython",
    "version": 3
   },
   "file_extension": ".py",
   "mimetype": "text/x-python",
   "name": "python",
   "nbconvert_exporter": "python",
   "pygments_lexer": "ipython3",
   "version": "3.10.12"
  },
  "papermill": {
   "default_parameters": {},
   "duration": 4.082484,
   "end_time": "2024-01-07T02:21:34.311488",
   "environment_variables": {},
   "exception": null,
   "input_path": "__notebook__.ipynb",
   "output_path": "__notebook__.ipynb",
   "parameters": {},
   "start_time": "2024-01-07T02:21:30.229004",
   "version": "2.4.0"
  }
 },
 "nbformat": 4,
 "nbformat_minor": 5
}
