{
 "cells": [
  {
   "cell_type": "code",
   "execution_count": 1,
   "id": "0da567a6",
   "metadata": {
    "_cell_guid": "b1076dfc-b9ad-4769-8c92-a6c4dae69d19",
    "_uuid": "8f2839f25d086af736a60e9eeb907d3b93b6e0e5",
    "execution": {
     "iopub.execute_input": "2023-12-13T02:44:57.682207Z",
     "iopub.status.busy": "2023-12-13T02:44:57.681371Z",
     "iopub.status.idle": "2023-12-13T02:44:58.194754Z",
     "shell.execute_reply": "2023-12-13T02:44:58.193511Z"
    },
    "papermill": {
     "duration": 0.529363,
     "end_time": "2023-12-13T02:44:58.198267",
     "exception": false,
     "start_time": "2023-12-13T02:44:57.668904",
     "status": "completed"
    },
    "tags": []
   },
   "outputs": [
    {
     "name": "stdout",
     "output_type": "stream",
     "text": [
      "/kaggle/input/moviedata/e.xlsx\n"
     ]
    }
   ],
   "source": [
    "# This Python 3 environment comes with many helpful analytics libraries installed\n",
    "# It is defined by the kaggle/python Docker image: https://github.com/kaggle/docker-python\n",
    "# For example, here's several helpful packages to load\n",
    "\n",
    "import numpy as np # linear algebra\n",
    "import pandas as pd # data processing, CSV file I/O (e.g. pd.read_csv)\n",
    "\n",
    "# Input data files are available in the read-only \"../input/\" directory\n",
    "# For example, running this (by clicking run or pressing Shift+Enter) will list all files under the input directory\n",
    "\n",
    "import os\n",
    "for dirname, _, filenames in os.walk('/kaggle/input'):\n",
    "    for filename in filenames:\n",
    "        print(os.path.join(dirname, filename))\n",
    "\n",
    "# You can write up to 20GB to the current directory (/kaggle/working/) that gets preserved as output when you create a version using \"Save & Run All\" \n",
    "# You can also write temporary files to /kaggle/temp/, but they won't be saved outside of the current session"
   ]
  },
  {
   "cell_type": "code",
   "execution_count": 2,
   "id": "1d6a64ca",
   "metadata": {
    "execution": {
     "iopub.execute_input": "2023-12-13T02:44:58.222115Z",
     "iopub.status.busy": "2023-12-13T02:44:58.221463Z",
     "iopub.status.idle": "2023-12-13T02:44:58.227999Z",
     "shell.execute_reply": "2023-12-13T02:44:58.226433Z"
    },
    "papermill": {
     "duration": 0.022255,
     "end_time": "2023-12-13T02:44:58.231215",
     "exception": false,
     "start_time": "2023-12-13T02:44:58.208960",
     "status": "completed"
    },
    "tags": []
   },
   "outputs": [],
   "source": [
    "import pandas as pd\n",
    "import numpy as np"
   ]
  },
  {
   "cell_type": "code",
   "execution_count": 3,
   "id": "b75e2adb",
   "metadata": {
    "execution": {
     "iopub.execute_input": "2023-12-13T02:44:58.253614Z",
     "iopub.status.busy": "2023-12-13T02:44:58.253109Z",
     "iopub.status.idle": "2023-12-13T02:44:58.693795Z",
     "shell.execute_reply": "2023-12-13T02:44:58.692537Z"
    },
    "papermill": {
     "duration": 0.455414,
     "end_time": "2023-12-13T02:44:58.696749",
     "exception": false,
     "start_time": "2023-12-13T02:44:58.241335",
     "status": "completed"
    },
    "tags": []
   },
   "outputs": [],
   "source": [
    "movieData = pd.read_excel(\"/kaggle/input/moviedata/e.xlsx\")"
   ]
  },
  {
   "cell_type": "code",
   "execution_count": 4,
   "id": "b2c9eca3",
   "metadata": {
    "execution": {
     "iopub.execute_input": "2023-12-13T02:44:58.719123Z",
     "iopub.status.busy": "2023-12-13T02:44:58.718237Z",
     "iopub.status.idle": "2023-12-13T02:44:58.745983Z",
     "shell.execute_reply": "2023-12-13T02:44:58.745155Z"
    },
    "papermill": {
     "duration": 0.041962,
     "end_time": "2023-12-13T02:44:58.748691",
     "exception": false,
     "start_time": "2023-12-13T02:44:58.706729",
     "status": "completed"
    },
    "tags": []
   },
   "outputs": [
    {
     "data": {
      "text/html": [
       "<div>\n",
       "<style scoped>\n",
       "    .dataframe tbody tr th:only-of-type {\n",
       "        vertical-align: middle;\n",
       "    }\n",
       "\n",
       "    .dataframe tbody tr th {\n",
       "        vertical-align: top;\n",
       "    }\n",
       "\n",
       "    .dataframe thead th {\n",
       "        text-align: right;\n",
       "    }\n",
       "</style>\n",
       "<table border=\"1\" class=\"dataframe\">\n",
       "  <thead>\n",
       "    <tr style=\"text-align: right;\">\n",
       "      <th></th>\n",
       "      <th>Names</th>\n",
       "      <th>M1</th>\n",
       "      <th>M2</th>\n",
       "      <th>M3</th>\n",
       "      <th>M4</th>\n",
       "    </tr>\n",
       "  </thead>\n",
       "  <tbody>\n",
       "    <tr>\n",
       "      <th>0</th>\n",
       "      <td>name1</td>\n",
       "      <td>8.5</td>\n",
       "      <td>7.5</td>\n",
       "      <td>6</td>\n",
       "      <td>9.0</td>\n",
       "    </tr>\n",
       "    <tr>\n",
       "      <th>1</th>\n",
       "      <td>name2</td>\n",
       "      <td>8.0</td>\n",
       "      <td>7.0</td>\n",
       "      <td>6</td>\n",
       "      <td>9.5</td>\n",
       "    </tr>\n",
       "    <tr>\n",
       "      <th>2</th>\n",
       "      <td>name3</td>\n",
       "      <td>7.0</td>\n",
       "      <td>6.0</td>\n",
       "      <td>9</td>\n",
       "      <td>8.0</td>\n",
       "    </tr>\n",
       "    <tr>\n",
       "      <th>3</th>\n",
       "      <td>unknown1</td>\n",
       "      <td>NaN</td>\n",
       "      <td>NaN</td>\n",
       "      <td>10</td>\n",
       "      <td>8.5</td>\n",
       "    </tr>\n",
       "    <tr>\n",
       "      <th>4</th>\n",
       "      <td>name5</td>\n",
       "      <td>9.0</td>\n",
       "      <td>NaN</td>\n",
       "      <td>9</td>\n",
       "      <td>10.0</td>\n",
       "    </tr>\n",
       "  </tbody>\n",
       "</table>\n",
       "</div>"
      ],
      "text/plain": [
       "      Names   M1   M2  M3    M4\n",
       "0     name1  8.5  7.5   6   9.0\n",
       "1     name2  8.0  7.0   6   9.5\n",
       "2     name3  7.0  6.0   9   8.0\n",
       "3  unknown1  NaN  NaN  10   8.5\n",
       "4     name5  9.0  NaN   9  10.0"
      ]
     },
     "execution_count": 4,
     "metadata": {},
     "output_type": "execute_result"
    }
   ],
   "source": [
    "movieData.head()"
   ]
  },
  {
   "cell_type": "code",
   "execution_count": 5,
   "id": "fe41bf81",
   "metadata": {
    "execution": {
     "iopub.execute_input": "2023-12-13T02:44:58.772303Z",
     "iopub.status.busy": "2023-12-13T02:44:58.771377Z",
     "iopub.status.idle": "2023-12-13T02:44:58.776347Z",
     "shell.execute_reply": "2023-12-13T02:44:58.775179Z"
    },
    "papermill": {
     "duration": 0.019913,
     "end_time": "2023-12-13T02:44:58.779331",
     "exception": false,
     "start_time": "2023-12-13T02:44:58.759418",
     "status": "completed"
    },
    "tags": []
   },
   "outputs": [],
   "source": [
    "df = movieData"
   ]
  },
  {
   "cell_type": "code",
   "execution_count": 6,
   "id": "a25968ce",
   "metadata": {
    "execution": {
     "iopub.execute_input": "2023-12-13T02:44:58.802592Z",
     "iopub.status.busy": "2023-12-13T02:44:58.801922Z",
     "iopub.status.idle": "2023-12-13T02:44:58.809278Z",
     "shell.execute_reply": "2023-12-13T02:44:58.808144Z"
    },
    "papermill": {
     "duration": 0.021747,
     "end_time": "2023-12-13T02:44:58.811642",
     "exception": false,
     "start_time": "2023-12-13T02:44:58.789895",
     "status": "completed"
    },
    "tags": []
   },
   "outputs": [
    {
     "data": {
      "text/plain": [
       "Index(['Names', 'M1', 'M2', 'M3', 'M4'], dtype='object')"
      ]
     },
     "execution_count": 6,
     "metadata": {},
     "output_type": "execute_result"
    }
   ],
   "source": [
    "df.columns"
   ]
  },
  {
   "cell_type": "code",
   "execution_count": 7,
   "id": "4ff8c0c0",
   "metadata": {
    "execution": {
     "iopub.execute_input": "2023-12-13T02:44:58.834693Z",
     "iopub.status.busy": "2023-12-13T02:44:58.834027Z",
     "iopub.status.idle": "2023-12-13T02:44:58.842997Z",
     "shell.execute_reply": "2023-12-13T02:44:58.842099Z"
    },
    "papermill": {
     "duration": 0.02343,
     "end_time": "2023-12-13T02:44:58.845407",
     "exception": false,
     "start_time": "2023-12-13T02:44:58.821977",
     "status": "completed"
    },
    "tags": []
   },
   "outputs": [],
   "source": [
    "df.set_index('Names',inplace = True)"
   ]
  },
  {
   "cell_type": "code",
   "execution_count": 8,
   "id": "06df2670",
   "metadata": {
    "execution": {
     "iopub.execute_input": "2023-12-13T02:44:58.868617Z",
     "iopub.status.busy": "2023-12-13T02:44:58.867974Z",
     "iopub.status.idle": "2023-12-13T02:44:58.875087Z",
     "shell.execute_reply": "2023-12-13T02:44:58.873940Z"
    },
    "papermill": {
     "duration": 0.021411,
     "end_time": "2023-12-13T02:44:58.877319",
     "exception": false,
     "start_time": "2023-12-13T02:44:58.855908",
     "status": "completed"
    },
    "tags": []
   },
   "outputs": [
    {
     "data": {
      "text/plain": [
       "Index(['name1', 'name2', 'name3', 'unknown1', 'name5'], dtype='object', name='Names')"
      ]
     },
     "execution_count": 8,
     "metadata": {},
     "output_type": "execute_result"
    }
   ],
   "source": [
    "df.index"
   ]
  },
  {
   "cell_type": "code",
   "execution_count": 9,
   "id": "243cef0a",
   "metadata": {
    "execution": {
     "iopub.execute_input": "2023-12-13T02:44:58.900798Z",
     "iopub.status.busy": "2023-12-13T02:44:58.900134Z",
     "iopub.status.idle": "2023-12-13T02:44:58.905314Z",
     "shell.execute_reply": "2023-12-13T02:44:58.904573Z"
    },
    "papermill": {
     "duration": 0.019767,
     "end_time": "2023-12-13T02:44:58.907540",
     "exception": false,
     "start_time": "2023-12-13T02:44:58.887773",
     "status": "completed"
    },
    "tags": []
   },
   "outputs": [],
   "source": [
    "def distance(x,y):\n",
    "    return sum((x-y)**2)**0.5"
   ]
  },
  {
   "cell_type": "code",
   "execution_count": 10,
   "id": "e99106fe",
   "metadata": {
    "execution": {
     "iopub.execute_input": "2023-12-13T02:44:58.931117Z",
     "iopub.status.busy": "2023-12-13T02:44:58.930673Z",
     "iopub.status.idle": "2023-12-13T02:44:58.936636Z",
     "shell.execute_reply": "2023-12-13T02:44:58.935339Z"
    },
    "papermill": {
     "duration": 0.020882,
     "end_time": "2023-12-13T02:44:58.938907",
     "exception": false,
     "start_time": "2023-12-13T02:44:58.918025",
     "status": "completed"
    },
    "tags": []
   },
   "outputs": [],
   "source": [
    "new = np.array([df.loc['unknown1','M3'],df.loc['unknown1','M4']])"
   ]
  },
  {
   "cell_type": "code",
   "execution_count": 11,
   "id": "c09ffb65",
   "metadata": {
    "execution": {
     "iopub.execute_input": "2023-12-13T02:44:58.962144Z",
     "iopub.status.busy": "2023-12-13T02:44:58.961492Z",
     "iopub.status.idle": "2023-12-13T02:44:58.968643Z",
     "shell.execute_reply": "2023-12-13T02:44:58.967413Z"
    },
    "papermill": {
     "duration": 0.021446,
     "end_time": "2023-12-13T02:44:58.970859",
     "exception": false,
     "start_time": "2023-12-13T02:44:58.949413",
     "status": "completed"
    },
    "tags": []
   },
   "outputs": [
    {
     "data": {
      "text/plain": [
       "10"
      ]
     },
     "execution_count": 11,
     "metadata": {},
     "output_type": "execute_result"
    }
   ],
   "source": [
    "df.loc['unknown1','M3']"
   ]
  },
  {
   "cell_type": "code",
   "execution_count": 12,
   "id": "698b556c",
   "metadata": {
    "execution": {
     "iopub.execute_input": "2023-12-13T02:44:58.994180Z",
     "iopub.status.busy": "2023-12-13T02:44:58.993743Z",
     "iopub.status.idle": "2023-12-13T02:44:59.000970Z",
     "shell.execute_reply": "2023-12-13T02:44:58.999836Z"
    },
    "papermill": {
     "duration": 0.022247,
     "end_time": "2023-12-13T02:44:59.003724",
     "exception": false,
     "start_time": "2023-12-13T02:44:58.981477",
     "status": "completed"
    },
    "tags": []
   },
   "outputs": [
    {
     "data": {
      "text/plain": [
       "array([10. ,  8.5])"
      ]
     },
     "execution_count": 12,
     "metadata": {},
     "output_type": "execute_result"
    }
   ],
   "source": [
    "new"
   ]
  },
  {
   "cell_type": "code",
   "execution_count": 13,
   "id": "9d222278",
   "metadata": {
    "execution": {
     "iopub.execute_input": "2023-12-13T02:44:59.028315Z",
     "iopub.status.busy": "2023-12-13T02:44:59.027633Z",
     "iopub.status.idle": "2023-12-13T02:44:59.038092Z",
     "shell.execute_reply": "2023-12-13T02:44:59.037245Z"
    },
    "papermill": {
     "duration": 0.025603,
     "end_time": "2023-12-13T02:44:59.040606",
     "exception": false,
     "start_time": "2023-12-13T02:44:59.015003",
     "status": "completed"
    },
    "tags": []
   },
   "outputs": [],
   "source": [
    "toBeCalculated = np.array(df[['M3','M4']])"
   ]
  },
  {
   "cell_type": "code",
   "execution_count": 14,
   "id": "39054331",
   "metadata": {
    "execution": {
     "iopub.execute_input": "2023-12-13T02:44:59.064695Z",
     "iopub.status.busy": "2023-12-13T02:44:59.064030Z",
     "iopub.status.idle": "2023-12-13T02:44:59.071581Z",
     "shell.execute_reply": "2023-12-13T02:44:59.070390Z"
    },
    "papermill": {
     "duration": 0.022492,
     "end_time": "2023-12-13T02:44:59.074007",
     "exception": false,
     "start_time": "2023-12-13T02:44:59.051515",
     "status": "completed"
    },
    "tags": []
   },
   "outputs": [
    {
     "data": {
      "text/plain": [
       "array([[ 6. ,  9. ],\n",
       "       [ 6. ,  9.5],\n",
       "       [ 9. ,  8. ],\n",
       "       [10. ,  8.5],\n",
       "       [ 9. , 10. ]])"
      ]
     },
     "execution_count": 14,
     "metadata": {},
     "output_type": "execute_result"
    }
   ],
   "source": [
    "toBeCalculated"
   ]
  },
  {
   "cell_type": "code",
   "execution_count": 15,
   "id": "f7a9798e",
   "metadata": {
    "execution": {
     "iopub.execute_input": "2023-12-13T02:44:59.098916Z",
     "iopub.status.busy": "2023-12-13T02:44:59.098443Z",
     "iopub.status.idle": "2023-12-13T02:44:59.106609Z",
     "shell.execute_reply": "2023-12-13T02:44:59.105679Z"
    },
    "papermill": {
     "duration": 0.023753,
     "end_time": "2023-12-13T02:44:59.108705",
     "exception": false,
     "start_time": "2023-12-13T02:44:59.084952",
     "status": "completed"
    },
    "tags": []
   },
   "outputs": [
    {
     "data": {
      "text/plain": [
       "[4.031128874149275,\n",
       " 4.123105625617661,\n",
       " 1.118033988749895,\n",
       " 0.0,\n",
       " 1.8027756377319946]"
      ]
     },
     "execution_count": 15,
     "metadata": {},
     "output_type": "execute_result"
    }
   ],
   "source": [
    "#for i in range(len(df.columns)-1):\n",
    "dist = []\n",
    "for a in toBeCalculated:\n",
    "    distList = distance(a,new)\n",
    "    dist.append(distList)\n",
    "    #print(distList)\n",
    "dist\n",
    "#print(distance(new,toBeCalculated))"
   ]
  },
  {
   "cell_type": "code",
   "execution_count": 16,
   "id": "f2a10491",
   "metadata": {
    "execution": {
     "iopub.execute_input": "2023-12-13T02:44:59.133467Z",
     "iopub.status.busy": "2023-12-13T02:44:59.132937Z",
     "iopub.status.idle": "2023-12-13T02:44:59.140794Z",
     "shell.execute_reply": "2023-12-13T02:44:59.139355Z"
    },
    "papermill": {
     "duration": 0.023445,
     "end_time": "2023-12-13T02:44:59.143290",
     "exception": false,
     "start_time": "2023-12-13T02:44:59.119845",
     "status": "completed"
    },
    "tags": []
   },
   "outputs": [],
   "source": [
    "df['distances'] = dist"
   ]
  },
  {
   "cell_type": "code",
   "execution_count": 17,
   "id": "500e4f42",
   "metadata": {
    "execution": {
     "iopub.execute_input": "2023-12-13T02:44:59.168661Z",
     "iopub.status.busy": "2023-12-13T02:44:59.168178Z",
     "iopub.status.idle": "2023-12-13T02:44:59.185450Z",
     "shell.execute_reply": "2023-12-13T02:44:59.184123Z"
    },
    "papermill": {
     "duration": 0.033297,
     "end_time": "2023-12-13T02:44:59.187920",
     "exception": false,
     "start_time": "2023-12-13T02:44:59.154623",
     "status": "completed"
    },
    "tags": []
   },
   "outputs": [
    {
     "data": {
      "text/html": [
       "<div>\n",
       "<style scoped>\n",
       "    .dataframe tbody tr th:only-of-type {\n",
       "        vertical-align: middle;\n",
       "    }\n",
       "\n",
       "    .dataframe tbody tr th {\n",
       "        vertical-align: top;\n",
       "    }\n",
       "\n",
       "    .dataframe thead th {\n",
       "        text-align: right;\n",
       "    }\n",
       "</style>\n",
       "<table border=\"1\" class=\"dataframe\">\n",
       "  <thead>\n",
       "    <tr style=\"text-align: right;\">\n",
       "      <th></th>\n",
       "      <th>M1</th>\n",
       "      <th>M2</th>\n",
       "      <th>M3</th>\n",
       "      <th>M4</th>\n",
       "      <th>distances</th>\n",
       "    </tr>\n",
       "    <tr>\n",
       "      <th>Names</th>\n",
       "      <th></th>\n",
       "      <th></th>\n",
       "      <th></th>\n",
       "      <th></th>\n",
       "      <th></th>\n",
       "    </tr>\n",
       "  </thead>\n",
       "  <tbody>\n",
       "    <tr>\n",
       "      <th>name1</th>\n",
       "      <td>8.5</td>\n",
       "      <td>7.5</td>\n",
       "      <td>6</td>\n",
       "      <td>9.0</td>\n",
       "      <td>4.031129</td>\n",
       "    </tr>\n",
       "    <tr>\n",
       "      <th>name2</th>\n",
       "      <td>8.0</td>\n",
       "      <td>7.0</td>\n",
       "      <td>6</td>\n",
       "      <td>9.5</td>\n",
       "      <td>4.123106</td>\n",
       "    </tr>\n",
       "    <tr>\n",
       "      <th>name3</th>\n",
       "      <td>7.0</td>\n",
       "      <td>6.0</td>\n",
       "      <td>9</td>\n",
       "      <td>8.0</td>\n",
       "      <td>1.118034</td>\n",
       "    </tr>\n",
       "    <tr>\n",
       "      <th>unknown1</th>\n",
       "      <td>NaN</td>\n",
       "      <td>NaN</td>\n",
       "      <td>10</td>\n",
       "      <td>8.5</td>\n",
       "      <td>0.000000</td>\n",
       "    </tr>\n",
       "    <tr>\n",
       "      <th>name5</th>\n",
       "      <td>9.0</td>\n",
       "      <td>NaN</td>\n",
       "      <td>9</td>\n",
       "      <td>10.0</td>\n",
       "      <td>1.802776</td>\n",
       "    </tr>\n",
       "  </tbody>\n",
       "</table>\n",
       "</div>"
      ],
      "text/plain": [
       "           M1   M2  M3    M4  distances\n",
       "Names                                  \n",
       "name1     8.5  7.5   6   9.0   4.031129\n",
       "name2     8.0  7.0   6   9.5   4.123106\n",
       "name3     7.0  6.0   9   8.0   1.118034\n",
       "unknown1  NaN  NaN  10   8.5   0.000000\n",
       "name5     9.0  NaN   9  10.0   1.802776"
      ]
     },
     "execution_count": 17,
     "metadata": {},
     "output_type": "execute_result"
    }
   ],
   "source": [
    "df"
   ]
  },
  {
   "cell_type": "code",
   "execution_count": 18,
   "id": "d114840b",
   "metadata": {
    "execution": {
     "iopub.execute_input": "2023-12-13T02:44:59.213341Z",
     "iopub.status.busy": "2023-12-13T02:44:59.212851Z",
     "iopub.status.idle": "2023-12-13T02:44:59.222031Z",
     "shell.execute_reply": "2023-12-13T02:44:59.220810Z"
    },
    "papermill": {
     "duration": 0.0247,
     "end_time": "2023-12-13T02:44:59.224424",
     "exception": false,
     "start_time": "2023-12-13T02:44:59.199724",
     "status": "completed"
    },
    "tags": []
   },
   "outputs": [
    {
     "data": {
      "text/plain": [
       "[0.1987625491245426,\n",
       " 0.1951941016011038,\n",
       " 0.4721359549995794,\n",
       " 1.0,\n",
       " 0.3567891723253309]"
      ]
     },
     "execution_count": 18,
     "metadata": {},
     "output_type": "execute_result"
    }
   ],
   "source": [
    "similarity = []\n",
    "for i in df['distances']:\n",
    "    sim = 1/(1+i)\n",
    "    #print(sim)\n",
    "    similarity.append(sim)\n",
    "similarity"
   ]
  },
  {
   "cell_type": "code",
   "execution_count": 19,
   "id": "c3e7f481",
   "metadata": {
    "execution": {
     "iopub.execute_input": "2023-12-13T02:44:59.249840Z",
     "iopub.status.busy": "2023-12-13T02:44:59.248905Z",
     "iopub.status.idle": "2023-12-13T02:44:59.255892Z",
     "shell.execute_reply": "2023-12-13T02:44:59.254630Z"
    },
    "papermill": {
     "duration": 0.02281,
     "end_time": "2023-12-13T02:44:59.258645",
     "exception": false,
     "start_time": "2023-12-13T02:44:59.235835",
     "status": "completed"
    },
    "tags": []
   },
   "outputs": [],
   "source": [
    "df['similarity'] = similarity"
   ]
  },
  {
   "cell_type": "code",
   "execution_count": 20,
   "id": "8653a2d3",
   "metadata": {
    "execution": {
     "iopub.execute_input": "2023-12-13T02:44:59.284138Z",
     "iopub.status.busy": "2023-12-13T02:44:59.283695Z",
     "iopub.status.idle": "2023-12-13T02:44:59.300865Z",
     "shell.execute_reply": "2023-12-13T02:44:59.299664Z"
    },
    "papermill": {
     "duration": 0.033491,
     "end_time": "2023-12-13T02:44:59.303757",
     "exception": false,
     "start_time": "2023-12-13T02:44:59.270266",
     "status": "completed"
    },
    "tags": []
   },
   "outputs": [
    {
     "data": {
      "text/html": [
       "<div>\n",
       "<style scoped>\n",
       "    .dataframe tbody tr th:only-of-type {\n",
       "        vertical-align: middle;\n",
       "    }\n",
       "\n",
       "    .dataframe tbody tr th {\n",
       "        vertical-align: top;\n",
       "    }\n",
       "\n",
       "    .dataframe thead th {\n",
       "        text-align: right;\n",
       "    }\n",
       "</style>\n",
       "<table border=\"1\" class=\"dataframe\">\n",
       "  <thead>\n",
       "    <tr style=\"text-align: right;\">\n",
       "      <th></th>\n",
       "      <th>M1</th>\n",
       "      <th>M2</th>\n",
       "      <th>M3</th>\n",
       "      <th>M4</th>\n",
       "      <th>distances</th>\n",
       "      <th>similarity</th>\n",
       "    </tr>\n",
       "    <tr>\n",
       "      <th>Names</th>\n",
       "      <th></th>\n",
       "      <th></th>\n",
       "      <th></th>\n",
       "      <th></th>\n",
       "      <th></th>\n",
       "      <th></th>\n",
       "    </tr>\n",
       "  </thead>\n",
       "  <tbody>\n",
       "    <tr>\n",
       "      <th>name1</th>\n",
       "      <td>8.5</td>\n",
       "      <td>7.5</td>\n",
       "      <td>6</td>\n",
       "      <td>9.0</td>\n",
       "      <td>4.031129</td>\n",
       "      <td>0.198763</td>\n",
       "    </tr>\n",
       "    <tr>\n",
       "      <th>name2</th>\n",
       "      <td>8.0</td>\n",
       "      <td>7.0</td>\n",
       "      <td>6</td>\n",
       "      <td>9.5</td>\n",
       "      <td>4.123106</td>\n",
       "      <td>0.195194</td>\n",
       "    </tr>\n",
       "    <tr>\n",
       "      <th>name3</th>\n",
       "      <td>7.0</td>\n",
       "      <td>6.0</td>\n",
       "      <td>9</td>\n",
       "      <td>8.0</td>\n",
       "      <td>1.118034</td>\n",
       "      <td>0.472136</td>\n",
       "    </tr>\n",
       "    <tr>\n",
       "      <th>unknown1</th>\n",
       "      <td>NaN</td>\n",
       "      <td>NaN</td>\n",
       "      <td>10</td>\n",
       "      <td>8.5</td>\n",
       "      <td>0.000000</td>\n",
       "      <td>1.000000</td>\n",
       "    </tr>\n",
       "    <tr>\n",
       "      <th>name5</th>\n",
       "      <td>9.0</td>\n",
       "      <td>NaN</td>\n",
       "      <td>9</td>\n",
       "      <td>10.0</td>\n",
       "      <td>1.802776</td>\n",
       "      <td>0.356789</td>\n",
       "    </tr>\n",
       "  </tbody>\n",
       "</table>\n",
       "</div>"
      ],
      "text/plain": [
       "           M1   M2  M3    M4  distances  similarity\n",
       "Names                                              \n",
       "name1     8.5  7.5   6   9.0   4.031129    0.198763\n",
       "name2     8.0  7.0   6   9.5   4.123106    0.195194\n",
       "name3     7.0  6.0   9   8.0   1.118034    0.472136\n",
       "unknown1  NaN  NaN  10   8.5   0.000000    1.000000\n",
       "name5     9.0  NaN   9  10.0   1.802776    0.356789"
      ]
     },
     "execution_count": 20,
     "metadata": {},
     "output_type": "execute_result"
    }
   ],
   "source": [
    "df"
   ]
  },
  {
   "cell_type": "code",
   "execution_count": 21,
   "id": "4bcc8cdf",
   "metadata": {
    "execution": {
     "iopub.execute_input": "2023-12-13T02:44:59.332280Z",
     "iopub.status.busy": "2023-12-13T02:44:59.330846Z",
     "iopub.status.idle": "2023-12-13T02:44:59.336780Z",
     "shell.execute_reply": "2023-12-13T02:44:59.335896Z"
    },
    "papermill": {
     "duration": 0.023005,
     "end_time": "2023-12-13T02:44:59.339402",
     "exception": false,
     "start_time": "2023-12-13T02:44:59.316397",
     "status": "completed"
    },
    "tags": []
   },
   "outputs": [],
   "source": [
    "#s = []\n",
    "#for i in df['M1']:\n",
    "#    sXM1 = df['similarity'] * i\n",
    "#    s.append(sXM1)\n",
    "#print(s)"
   ]
  },
  {
   "cell_type": "code",
   "execution_count": 22,
   "id": "ac4d4fab",
   "metadata": {
    "execution": {
     "iopub.execute_input": "2023-12-13T02:44:59.368066Z",
     "iopub.status.busy": "2023-12-13T02:44:59.367292Z",
     "iopub.status.idle": "2023-12-13T02:44:59.374581Z",
     "shell.execute_reply": "2023-12-13T02:44:59.373149Z"
    },
    "papermill": {
     "duration": 0.025289,
     "end_time": "2023-12-13T02:44:59.377538",
     "exception": false,
     "start_time": "2023-12-13T02:44:59.352249",
     "status": "completed"
    },
    "tags": []
   },
   "outputs": [],
   "source": [
    "df['similarity X'] = df['similarity']*df['M1']"
   ]
  },
  {
   "cell_type": "code",
   "execution_count": 23,
   "id": "45c0c386",
   "metadata": {
    "execution": {
     "iopub.execute_input": "2023-12-13T02:44:59.404532Z",
     "iopub.status.busy": "2023-12-13T02:44:59.404042Z",
     "iopub.status.idle": "2023-12-13T02:44:59.421801Z",
     "shell.execute_reply": "2023-12-13T02:44:59.420597Z"
    },
    "papermill": {
     "duration": 0.034708,
     "end_time": "2023-12-13T02:44:59.424411",
     "exception": false,
     "start_time": "2023-12-13T02:44:59.389703",
     "status": "completed"
    },
    "tags": []
   },
   "outputs": [
    {
     "data": {
      "text/html": [
       "<div>\n",
       "<style scoped>\n",
       "    .dataframe tbody tr th:only-of-type {\n",
       "        vertical-align: middle;\n",
       "    }\n",
       "\n",
       "    .dataframe tbody tr th {\n",
       "        vertical-align: top;\n",
       "    }\n",
       "\n",
       "    .dataframe thead th {\n",
       "        text-align: right;\n",
       "    }\n",
       "</style>\n",
       "<table border=\"1\" class=\"dataframe\">\n",
       "  <thead>\n",
       "    <tr style=\"text-align: right;\">\n",
       "      <th></th>\n",
       "      <th>M1</th>\n",
       "      <th>M2</th>\n",
       "      <th>M3</th>\n",
       "      <th>M4</th>\n",
       "      <th>distances</th>\n",
       "      <th>similarity</th>\n",
       "      <th>similarity X</th>\n",
       "    </tr>\n",
       "    <tr>\n",
       "      <th>Names</th>\n",
       "      <th></th>\n",
       "      <th></th>\n",
       "      <th></th>\n",
       "      <th></th>\n",
       "      <th></th>\n",
       "      <th></th>\n",
       "      <th></th>\n",
       "    </tr>\n",
       "  </thead>\n",
       "  <tbody>\n",
       "    <tr>\n",
       "      <th>name1</th>\n",
       "      <td>8.5</td>\n",
       "      <td>7.5</td>\n",
       "      <td>6</td>\n",
       "      <td>9.0</td>\n",
       "      <td>4.031129</td>\n",
       "      <td>0.198763</td>\n",
       "      <td>1.689482</td>\n",
       "    </tr>\n",
       "    <tr>\n",
       "      <th>name2</th>\n",
       "      <td>8.0</td>\n",
       "      <td>7.0</td>\n",
       "      <td>6</td>\n",
       "      <td>9.5</td>\n",
       "      <td>4.123106</td>\n",
       "      <td>0.195194</td>\n",
       "      <td>1.561553</td>\n",
       "    </tr>\n",
       "    <tr>\n",
       "      <th>name3</th>\n",
       "      <td>7.0</td>\n",
       "      <td>6.0</td>\n",
       "      <td>9</td>\n",
       "      <td>8.0</td>\n",
       "      <td>1.118034</td>\n",
       "      <td>0.472136</td>\n",
       "      <td>3.304952</td>\n",
       "    </tr>\n",
       "    <tr>\n",
       "      <th>unknown1</th>\n",
       "      <td>NaN</td>\n",
       "      <td>NaN</td>\n",
       "      <td>10</td>\n",
       "      <td>8.5</td>\n",
       "      <td>0.000000</td>\n",
       "      <td>1.000000</td>\n",
       "      <td>NaN</td>\n",
       "    </tr>\n",
       "    <tr>\n",
       "      <th>name5</th>\n",
       "      <td>9.0</td>\n",
       "      <td>NaN</td>\n",
       "      <td>9</td>\n",
       "      <td>10.0</td>\n",
       "      <td>1.802776</td>\n",
       "      <td>0.356789</td>\n",
       "      <td>3.211103</td>\n",
       "    </tr>\n",
       "  </tbody>\n",
       "</table>\n",
       "</div>"
      ],
      "text/plain": [
       "           M1   M2  M3    M4  distances  similarity  similarity X\n",
       "Names                                                            \n",
       "name1     8.5  7.5   6   9.0   4.031129    0.198763      1.689482\n",
       "name2     8.0  7.0   6   9.5   4.123106    0.195194      1.561553\n",
       "name3     7.0  6.0   9   8.0   1.118034    0.472136      3.304952\n",
       "unknown1  NaN  NaN  10   8.5   0.000000    1.000000           NaN\n",
       "name5     9.0  NaN   9  10.0   1.802776    0.356789      3.211103"
      ]
     },
     "execution_count": 23,
     "metadata": {},
     "output_type": "execute_result"
    }
   ],
   "source": [
    "df"
   ]
  },
  {
   "cell_type": "code",
   "execution_count": 24,
   "id": "59e7f812",
   "metadata": {
    "execution": {
     "iopub.execute_input": "2023-12-13T02:44:59.452389Z",
     "iopub.status.busy": "2023-12-13T02:44:59.451923Z",
     "iopub.status.idle": "2023-12-13T02:44:59.457209Z",
     "shell.execute_reply": "2023-12-13T02:44:59.455926Z"
    },
    "papermill": {
     "duration": 0.022504,
     "end_time": "2023-12-13T02:44:59.460181",
     "exception": false,
     "start_time": "2023-12-13T02:44:59.437677",
     "status": "completed"
    },
    "tags": []
   },
   "outputs": [],
   "source": [
    "#df.loc['unknown1',df.columns['similarity X']] = 0"
   ]
  },
  {
   "cell_type": "code",
   "execution_count": 25,
   "id": "05281104",
   "metadata": {
    "execution": {
     "iopub.execute_input": "2023-12-13T02:44:59.487404Z",
     "iopub.status.busy": "2023-12-13T02:44:59.486682Z",
     "iopub.status.idle": "2023-12-13T02:44:59.492037Z",
     "shell.execute_reply": "2023-12-13T02:44:59.491133Z"
    },
    "papermill": {
     "duration": 0.021885,
     "end_time": "2023-12-13T02:44:59.494436",
     "exception": false,
     "start_time": "2023-12-13T02:44:59.472551",
     "status": "completed"
    },
    "tags": []
   },
   "outputs": [],
   "source": [
    "df.fillna(0, inplace=True)"
   ]
  },
  {
   "cell_type": "code",
   "execution_count": 26,
   "id": "baddf1df",
   "metadata": {
    "execution": {
     "iopub.execute_input": "2023-12-13T02:44:59.522373Z",
     "iopub.status.busy": "2023-12-13T02:44:59.521883Z",
     "iopub.status.idle": "2023-12-13T02:44:59.527459Z",
     "shell.execute_reply": "2023-12-13T02:44:59.525956Z"
    },
    "papermill": {
     "duration": 0.023257,
     "end_time": "2023-12-13T02:44:59.529945",
     "exception": false,
     "start_time": "2023-12-13T02:44:59.506688",
     "status": "completed"
    },
    "tags": []
   },
   "outputs": [],
   "source": [
    "#df.drop(df.index[-1], inplace=True)"
   ]
  },
  {
   "cell_type": "code",
   "execution_count": 27,
   "id": "035a4482",
   "metadata": {
    "execution": {
     "iopub.execute_input": "2023-12-13T02:44:59.557248Z",
     "iopub.status.busy": "2023-12-13T02:44:59.556820Z",
     "iopub.status.idle": "2023-12-13T02:44:59.562452Z",
     "shell.execute_reply": "2023-12-13T02:44:59.561097Z"
    },
    "papermill": {
     "duration": 0.022791,
     "end_time": "2023-12-13T02:44:59.564875",
     "exception": false,
     "start_time": "2023-12-13T02:44:59.542084",
     "status": "completed"
    },
    "tags": []
   },
   "outputs": [],
   "source": [
    "#df.drop('unknown1', axis = 0)\n",
    "# axis = 1 for column"
   ]
  },
  {
   "cell_type": "code",
   "execution_count": 28,
   "id": "84b89f44",
   "metadata": {
    "execution": {
     "iopub.execute_input": "2023-12-13T02:44:59.592083Z",
     "iopub.status.busy": "2023-12-13T02:44:59.591580Z",
     "iopub.status.idle": "2023-12-13T02:44:59.610041Z",
     "shell.execute_reply": "2023-12-13T02:44:59.608826Z"
    },
    "papermill": {
     "duration": 0.035061,
     "end_time": "2023-12-13T02:44:59.612465",
     "exception": false,
     "start_time": "2023-12-13T02:44:59.577404",
     "status": "completed"
    },
    "tags": []
   },
   "outputs": [
    {
     "data": {
      "text/html": [
       "<div>\n",
       "<style scoped>\n",
       "    .dataframe tbody tr th:only-of-type {\n",
       "        vertical-align: middle;\n",
       "    }\n",
       "\n",
       "    .dataframe tbody tr th {\n",
       "        vertical-align: top;\n",
       "    }\n",
       "\n",
       "    .dataframe thead th {\n",
       "        text-align: right;\n",
       "    }\n",
       "</style>\n",
       "<table border=\"1\" class=\"dataframe\">\n",
       "  <thead>\n",
       "    <tr style=\"text-align: right;\">\n",
       "      <th></th>\n",
       "      <th>M1</th>\n",
       "      <th>M2</th>\n",
       "      <th>M3</th>\n",
       "      <th>M4</th>\n",
       "      <th>distances</th>\n",
       "      <th>similarity</th>\n",
       "      <th>similarity X</th>\n",
       "    </tr>\n",
       "    <tr>\n",
       "      <th>Names</th>\n",
       "      <th></th>\n",
       "      <th></th>\n",
       "      <th></th>\n",
       "      <th></th>\n",
       "      <th></th>\n",
       "      <th></th>\n",
       "      <th></th>\n",
       "    </tr>\n",
       "  </thead>\n",
       "  <tbody>\n",
       "    <tr>\n",
       "      <th>name1</th>\n",
       "      <td>8.5</td>\n",
       "      <td>7.5</td>\n",
       "      <td>6</td>\n",
       "      <td>9.0</td>\n",
       "      <td>4.031129</td>\n",
       "      <td>0.198763</td>\n",
       "      <td>1.689482</td>\n",
       "    </tr>\n",
       "    <tr>\n",
       "      <th>name2</th>\n",
       "      <td>8.0</td>\n",
       "      <td>7.0</td>\n",
       "      <td>6</td>\n",
       "      <td>9.5</td>\n",
       "      <td>4.123106</td>\n",
       "      <td>0.195194</td>\n",
       "      <td>1.561553</td>\n",
       "    </tr>\n",
       "    <tr>\n",
       "      <th>name3</th>\n",
       "      <td>7.0</td>\n",
       "      <td>6.0</td>\n",
       "      <td>9</td>\n",
       "      <td>8.0</td>\n",
       "      <td>1.118034</td>\n",
       "      <td>0.472136</td>\n",
       "      <td>3.304952</td>\n",
       "    </tr>\n",
       "    <tr>\n",
       "      <th>unknown1</th>\n",
       "      <td>0.0</td>\n",
       "      <td>0.0</td>\n",
       "      <td>10</td>\n",
       "      <td>8.5</td>\n",
       "      <td>0.000000</td>\n",
       "      <td>1.000000</td>\n",
       "      <td>0.000000</td>\n",
       "    </tr>\n",
       "    <tr>\n",
       "      <th>name5</th>\n",
       "      <td>9.0</td>\n",
       "      <td>0.0</td>\n",
       "      <td>9</td>\n",
       "      <td>10.0</td>\n",
       "      <td>1.802776</td>\n",
       "      <td>0.356789</td>\n",
       "      <td>3.211103</td>\n",
       "    </tr>\n",
       "  </tbody>\n",
       "</table>\n",
       "</div>"
      ],
      "text/plain": [
       "           M1   M2  M3    M4  distances  similarity  similarity X\n",
       "Names                                                            \n",
       "name1     8.5  7.5   6   9.0   4.031129    0.198763      1.689482\n",
       "name2     8.0  7.0   6   9.5   4.123106    0.195194      1.561553\n",
       "name3     7.0  6.0   9   8.0   1.118034    0.472136      3.304952\n",
       "unknown1  0.0  0.0  10   8.5   0.000000    1.000000      0.000000\n",
       "name5     9.0  0.0   9  10.0   1.802776    0.356789      3.211103"
      ]
     },
     "execution_count": 28,
     "metadata": {},
     "output_type": "execute_result"
    }
   ],
   "source": [
    "df"
   ]
  },
  {
   "cell_type": "code",
   "execution_count": 29,
   "id": "ee6f9e06",
   "metadata": {
    "execution": {
     "iopub.execute_input": "2023-12-13T02:44:59.641327Z",
     "iopub.status.busy": "2023-12-13T02:44:59.640646Z",
     "iopub.status.idle": "2023-12-13T02:44:59.646706Z",
     "shell.execute_reply": "2023-12-13T02:44:59.645535Z"
    },
    "papermill": {
     "duration": 0.023454,
     "end_time": "2023-12-13T02:44:59.649266",
     "exception": false,
     "start_time": "2023-12-13T02:44:59.625812",
     "status": "completed"
    },
    "tags": []
   },
   "outputs": [
    {
     "name": "stdout",
     "output_type": "stream",
     "text": [
      "The recommended rating for unknown 1 will be : 4.393885816481932\n"
     ]
    }
   ],
   "source": [
    "print( 'The recommended rating for unknown 1 will be :',sum(df['similarity X'])/sum(df['similarity']))"
   ]
  },
  {
   "cell_type": "code",
   "execution_count": null,
   "id": "f23c7de2",
   "metadata": {
    "papermill": {
     "duration": 0.01262,
     "end_time": "2023-12-13T02:44:59.769247",
     "exception": false,
     "start_time": "2023-12-13T02:44:59.756627",
     "status": "completed"
    },
    "tags": []
   },
   "outputs": [],
   "source": []
  }
 ],
 "metadata": {
  "kaggle": {
   "accelerator": "none",
   "dataSources": [
    {
     "datasetId": 4151030,
     "sourceId": 7181613,
     "sourceType": "datasetVersion"
    }
   ],
   "dockerImageVersionId": 30615,
   "isGpuEnabled": false,
   "isInternetEnabled": true,
   "language": "python",
   "sourceType": "notebook"
  },
  "kernelspec": {
   "display_name": "Python 3",
   "language": "python",
   "name": "python3"
  },
  "language_info": {
   "codemirror_mode": {
    "name": "ipython",
    "version": 3
   },
   "file_extension": ".py",
   "mimetype": "text/x-python",
   "name": "python",
   "nbconvert_exporter": "python",
   "pygments_lexer": "ipython3",
   "version": "3.10.12"
  },
  "papermill": {
   "default_parameters": {},
   "duration": 6.295883,
   "end_time": "2023-12-13T02:45:00.404701",
   "environment_variables": {},
   "exception": null,
   "input_path": "__notebook__.ipynb",
   "output_path": "__notebook__.ipynb",
   "parameters": {},
   "start_time": "2023-12-13T02:44:54.108818",
   "version": "2.4.0"
  }
 },
 "nbformat": 4,
 "nbformat_minor": 5
}
