{
 "cells": [
  {
   "cell_type": "code",
   "execution_count": 1,
   "id": "43ed7fff",
   "metadata": {
    "_cell_guid": "b1076dfc-b9ad-4769-8c92-a6c4dae69d19",
    "_uuid": "8f2839f25d086af736a60e9eeb907d3b93b6e0e5",
    "execution": {
     "iopub.execute_input": "2023-12-23T17:38:09.331023Z",
     "iopub.status.busy": "2023-12-23T17:38:09.330052Z",
     "iopub.status.idle": "2023-12-23T17:38:09.345881Z",
     "shell.execute_reply": "2023-12-23T17:38:09.345073Z"
    },
    "papermill": {
     "duration": 0.02089,
     "end_time": "2023-12-23T17:38:09.347706",
     "exception": false,
     "start_time": "2023-12-23T17:38:09.326816",
     "status": "completed"
    },
    "tags": []
   },
   "outputs": [
    {
     "name": "stdout",
     "output_type": "stream",
     "text": [
      "False\n",
      "True\n",
      "True\n",
      "True\n",
      "False\n",
      "True\n",
      "False\n",
      "True\n",
      "False\n",
      "True\n"
     ]
    }
   ],
   "source": [
    "import numpy as np\n",
    "\n",
    "# Set a threshold value\n",
    "threshold = 2.5\n",
    "\n",
    "# Define input values (assuming 10 inputs)\n",
    "inputs = [1, 0, 1, 0, 1, 1, 0, 1, 0, 1]\n",
    "\n",
    "# Define weights for each perceptron in a matrix\n",
    "weights_matrix = np.array([\n",
    "    [0.2, 0.1, 0.3, 0.4, 0.1, 0.2, 0.1, 0.5, 0.3, 0.2],\n",
    "    [0.5, 0.7, 0.9, 0.2, 0.6, 0.4, 0.8, 0.3, 0.1, 0.7],\n",
    "    [0.1, 0.3, 0.7, 0.5, 0.8, 0.6, 0.2, 0.9, 0.4, 0.3],\n",
    "    [0.9, 0.1, 0.3, 0.7, 0.4, 0.8, 0.5, 0.2, 0.6, 0.1],\n",
    "    [0.4, 0.3, 0.2, 0.8, 0.1, 0.5, 0.2, 0.7, 0.5, 0.3],\n",
    "    [0.6, 0.5, 0.4, 0.1, 0.7, 0.3, 0.9, 0.6, 0.4, 0.8],\n",
    "    [0.3, 0.4, 0.5, 0.2, 0.6, 0.1, 0.7, 0.4, 0.2, 0.5],\n",
    "    [0.8, 0.2, 0.5, 0.3, 0.7, 0.1, 0.6, 0.4, 0.9, 0.2],\n",
    "    [0.4, 0.6, 0.1, 0.9, 0.2, 0.5, 0.3, 0.8, 0.7, 0.4],\n",
    "    [0.7, 0.6, 0.5, 0.3, 0.4, 0.2, 0.8, 0.5, 0.3, 0.6]\n",
    "])\n",
    "\n",
    "# Calculate the weighted sums for each perceptron\n",
    "sum_results = np.dot(weights_matrix, inputs)\n",
    "\n",
    "# Activate each perceptron based on the comparison with the threshold\n",
    "for i in sum_results:\n",
    "    activations = i >= threshold\n",
    "    print(activations)\n",
    "#activations = sum_results >= threshold\n",
    "\n",
    "#print(\"Activation Results:\", activations)\n"
   ]
  },
  {
   "cell_type": "code",
   "execution_count": null,
   "id": "a6d314c0",
   "metadata": {
    "papermill": {
     "duration": 0.001215,
     "end_time": "2023-12-23T17:38:09.350440",
     "exception": false,
     "start_time": "2023-12-23T17:38:09.349225",
     "status": "completed"
    },
    "tags": []
   },
   "outputs": [],
   "source": []
  }
 ],
 "metadata": {
  "kaggle": {
   "accelerator": "none",
   "dataSources": [],
   "dockerImageVersionId": 30626,
   "isGpuEnabled": false,
   "isInternetEnabled": true,
   "language": "python",
   "sourceType": "notebook"
  },
  "kernelspec": {
   "display_name": "Python 3",
   "language": "python",
   "name": "python3"
  },
  "language_info": {
   "codemirror_mode": {
    "name": "ipython",
    "version": 3
   },
   "file_extension": ".py",
   "mimetype": "text/x-python",
   "name": "python",
   "nbconvert_exporter": "python",
   "pygments_lexer": "ipython3",
   "version": "3.10.12"
  },
  "papermill": {
   "default_parameters": {},
   "duration": 2.813746,
   "end_time": "2023-12-23T17:38:09.669307",
   "environment_variables": {},
   "exception": null,
   "input_path": "__notebook__.ipynb",
   "output_path": "__notebook__.ipynb",
   "parameters": {},
   "start_time": "2023-12-23T17:38:06.855561",
   "version": "2.4.0"
  }
 },
 "nbformat": 4,
 "nbformat_minor": 5
}
