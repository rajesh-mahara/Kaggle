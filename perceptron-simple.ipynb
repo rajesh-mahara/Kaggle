{
 "cells": [
  {
   "cell_type": "code",
   "execution_count": 1,
   "id": "27f5acba",
   "metadata": {
    "_cell_guid": "b1076dfc-b9ad-4769-8c92-a6c4dae69d19",
    "_uuid": "8f2839f25d086af736a60e9eeb907d3b93b6e0e5",
    "execution": {
     "iopub.execute_input": "2023-12-25T02:04:47.816244Z",
     "iopub.status.busy": "2023-12-25T02:04:47.815825Z",
     "iopub.status.idle": "2023-12-25T02:04:47.829421Z",
     "shell.execute_reply": "2023-12-25T02:04:47.827424Z"
    },
    "papermill": {
     "duration": 0.02132,
     "end_time": "2023-12-25T02:04:47.832210",
     "exception": false,
     "start_time": "2023-12-25T02:04:47.810890",
     "status": "completed"
    },
    "tags": []
   },
   "outputs": [],
   "source": [
    "import numpy as np\n",
    "\n",
    "# Set a threshold value\n",
    "threshold = 2.5\n",
    "\n",
    "# Define input values (assuming 10 inputs)\n",
    "inputs = [1, 0, 1, 0, 1, 1, 0, 1, 0, 1]"
   ]
  },
  {
   "cell_type": "code",
   "execution_count": 2,
   "id": "ba15ee51",
   "metadata": {
    "execution": {
     "iopub.execute_input": "2023-12-25T02:04:47.839400Z",
     "iopub.status.busy": "2023-12-25T02:04:47.839004Z",
     "iopub.status.idle": "2023-12-25T02:04:47.847412Z",
     "shell.execute_reply": "2023-12-25T02:04:47.846267Z"
    },
    "papermill": {
     "duration": 0.014199,
     "end_time": "2023-12-25T02:04:47.849369",
     "exception": false,
     "start_time": "2023-12-25T02:04:47.835170",
     "status": "completed"
    },
    "tags": []
   },
   "outputs": [],
   "source": [
    "# Define weights for each perceptron in a matrix\n",
    "weights_matrix = np.array([\n",
    "    [0.2, 0.1, 0.3, 0.4, 0.1, 0.2, 0.1, 0.5, 0.3, 0.2],\n",
    "    [0.5, 0.7, 0.9, 0.2, 0.6, 0.4, 0.8, 0.3, 0.1, 0.7],\n",
    "    [0.1, 0.3, 0.7, 0.5, 0.8, 0.6, 0.2, 0.9, 0.4, 0.3],\n",
    "    [0.9, 0.1, 0.3, 0.7, 0.4, 0.8, 0.5, 0.2, 0.6, 0.1],\n",
    "    [0.4, 0.3, 0.2, 0.8, 0.1, 0.5, 0.2, 0.7, 0.5, 0.3],\n",
    "    [0.6, 0.5, 0.4, 0.1, 0.7, 0.3, 0.9, 0.6, 0.4, 0.8],\n",
    "    [0.3, 0.4, 0.5, 0.2, 0.6, 0.1, 0.7, 0.4, 0.2, 0.5],\n",
    "    [0.8, 0.2, 0.5, 0.3, 0.7, 0.1, 0.6, 0.4, 0.9, 0.2],\n",
    "    [0.4, 0.6, 0.1, 0.9, 0.2, 0.5, 0.3, 0.8, 0.7, 0.4],\n",
    "    [0.7, 0.6, 0.5, 0.3, 0.4, 0.2, 0.8, 0.5, 0.3, 0.6]\n",
    "])"
   ]
  },
  {
   "cell_type": "code",
   "execution_count": 3,
   "id": "30a61a45",
   "metadata": {
    "execution": {
     "iopub.execute_input": "2023-12-25T02:04:47.855635Z",
     "iopub.status.busy": "2023-12-25T02:04:47.855293Z",
     "iopub.status.idle": "2023-12-25T02:04:47.860993Z",
     "shell.execute_reply": "2023-12-25T02:04:47.859602Z"
    },
    "papermill": {
     "duration": 0.011418,
     "end_time": "2023-12-25T02:04:47.863313",
     "exception": false,
     "start_time": "2023-12-25T02:04:47.851895",
     "status": "completed"
    },
    "tags": []
   },
   "outputs": [],
   "source": [
    "\n",
    "# Calculate the weighted sums for each perceptron\n",
    "sum_results = np.dot(weights_matrix, inputs)"
   ]
  },
  {
   "cell_type": "code",
   "execution_count": 4,
   "id": "6224e53b",
   "metadata": {
    "execution": {
     "iopub.execute_input": "2023-12-25T02:04:47.869806Z",
     "iopub.status.busy": "2023-12-25T02:04:47.869495Z",
     "iopub.status.idle": "2023-12-25T02:04:47.879283Z",
     "shell.execute_reply": "2023-12-25T02:04:47.877670Z"
    },
    "papermill": {
     "duration": 0.016051,
     "end_time": "2023-12-25T02:04:47.881952",
     "exception": false,
     "start_time": "2023-12-25T02:04:47.865901",
     "status": "completed"
    },
    "tags": []
   },
   "outputs": [
    {
     "data": {
      "text/plain": [
       "array([1.5, 3.4, 3.4, 2.7, 2.2, 3.4, 2.4, 2.7, 2.4, 2.9])"
      ]
     },
     "execution_count": 4,
     "metadata": {},
     "output_type": "execute_result"
    }
   ],
   "source": [
    "sum_results"
   ]
  },
  {
   "cell_type": "code",
   "execution_count": 5,
   "id": "17370eb4",
   "metadata": {
    "execution": {
     "iopub.execute_input": "2023-12-25T02:04:47.889243Z",
     "iopub.status.busy": "2023-12-25T02:04:47.888861Z",
     "iopub.status.idle": "2023-12-25T02:04:47.894713Z",
     "shell.execute_reply": "2023-12-25T02:04:47.893670Z"
    },
    "papermill": {
     "duration": 0.01205,
     "end_time": "2023-12-25T02:04:47.896813",
     "exception": false,
     "start_time": "2023-12-25T02:04:47.884763",
     "status": "completed"
    },
    "tags": []
   },
   "outputs": [],
   "source": [
    "output = []\n",
    "for i in sum_results:\n",
    "    classes = 1/(1+np.exp(-i))\n",
    "    output.append(classes)"
   ]
  },
  {
   "cell_type": "code",
   "execution_count": 6,
   "id": "b7272e86",
   "metadata": {
    "execution": {
     "iopub.execute_input": "2023-12-25T02:04:47.904160Z",
     "iopub.status.busy": "2023-12-25T02:04:47.903754Z",
     "iopub.status.idle": "2023-12-25T02:04:47.910954Z",
     "shell.execute_reply": "2023-12-25T02:04:47.909895Z"
    },
    "papermill": {
     "duration": 0.013273,
     "end_time": "2023-12-25T02:04:47.912948",
     "exception": false,
     "start_time": "2023-12-25T02:04:47.899675",
     "status": "completed"
    },
    "tags": []
   },
   "outputs": [
    {
     "data": {
      "text/plain": [
       "[0.8175744761936437,\n",
       " 0.9677045353015495,\n",
       " 0.9677045353015494,\n",
       " 0.9370266439430035,\n",
       " 0.9002495108803148,\n",
       " 0.9677045353015494,\n",
       " 0.9168273035060777,\n",
       " 0.9370266439430035,\n",
       " 0.9168273035060777,\n",
       " 0.9478464369215823]"
      ]
     },
     "execution_count": 6,
     "metadata": {},
     "output_type": "execute_result"
    }
   ],
   "source": [
    "output"
   ]
  },
  {
   "cell_type": "code",
   "execution_count": 7,
   "id": "59142467",
   "metadata": {
    "execution": {
     "iopub.execute_input": "2023-12-25T02:04:47.920497Z",
     "iopub.status.busy": "2023-12-25T02:04:47.920034Z",
     "iopub.status.idle": "2023-12-25T02:04:47.925699Z",
     "shell.execute_reply": "2023-12-25T02:04:47.924693Z"
    },
    "papermill": {
     "duration": 0.012314,
     "end_time": "2023-12-25T02:04:47.928220",
     "exception": false,
     "start_time": "2023-12-25T02:04:47.915906",
     "status": "completed"
    },
    "tags": []
   },
   "outputs": [
    {
     "name": "stdout",
     "output_type": "stream",
     "text": [
      "class_2\n",
      "class_1\n",
      "class_1\n",
      "class_2\n",
      "class_2\n",
      "class_1\n",
      "class_2\n",
      "class_2\n",
      "class_2\n",
      "class_2\n"
     ]
    }
   ],
   "source": [
    "# Activate each perceptron based on the comparison with the threshold\n",
    "for i in output:\n",
    "    if i >= 0.95:\n",
    "        print('class_1')\n",
    "    else:\n",
    "        print('class_2')\n",
    "    \n",
    "#activations = sum_results >= threshold\n",
    "\n",
    "#print(\"Activation Results:\", activations)\n"
   ]
  },
  {
   "cell_type": "code",
   "execution_count": null,
   "id": "7f956f57",
   "metadata": {
    "papermill": {
     "duration": 0.002496,
     "end_time": "2023-12-25T02:04:47.933648",
     "exception": false,
     "start_time": "2023-12-25T02:04:47.931152",
     "status": "completed"
    },
    "tags": []
   },
   "outputs": [],
   "source": []
  }
 ],
 "metadata": {
  "kaggle": {
   "accelerator": "none",
   "dataSources": [],
   "dockerImageVersionId": 30626,
   "isGpuEnabled": false,
   "isInternetEnabled": true,
   "language": "python",
   "sourceType": "notebook"
  },
  "kernelspec": {
   "display_name": "Python 3",
   "language": "python",
   "name": "python3"
  },
  "language_info": {
   "codemirror_mode": {
    "name": "ipython",
    "version": 3
   },
   "file_extension": ".py",
   "mimetype": "text/x-python",
   "name": "python",
   "nbconvert_exporter": "python",
   "pygments_lexer": "ipython3",
   "version": "3.10.12"
  },
  "papermill": {
   "default_parameters": {},
   "duration": 3.272423,
   "end_time": "2023-12-25T02:04:48.358418",
   "environment_variables": {},
   "exception": null,
   "input_path": "__notebook__.ipynb",
   "output_path": "__notebook__.ipynb",
   "parameters": {},
   "start_time": "2023-12-25T02:04:45.085995",
   "version": "2.4.0"
  }
 },
 "nbformat": 4,
 "nbformat_minor": 5
}
