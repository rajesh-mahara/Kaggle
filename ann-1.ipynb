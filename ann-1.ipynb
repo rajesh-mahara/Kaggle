{
 "cells": [
  {
   "cell_type": "code",
   "execution_count": 1,
   "id": "7a59c9e0",
   "metadata": {
    "_cell_guid": "b1076dfc-b9ad-4769-8c92-a6c4dae69d19",
    "_uuid": "8f2839f25d086af736a60e9eeb907d3b93b6e0e5",
    "execution": {
     "iopub.execute_input": "2023-12-25T04:41:29.304201Z",
     "iopub.status.busy": "2023-12-25T04:41:29.303850Z",
     "iopub.status.idle": "2023-12-25T04:41:43.748841Z",
     "shell.execute_reply": "2023-12-25T04:41:43.747571Z"
    },
    "papermill": {
     "duration": 14.453192,
     "end_time": "2023-12-25T04:41:43.751482",
     "exception": false,
     "start_time": "2023-12-25T04:41:29.298290",
     "status": "completed"
    },
    "tags": []
   },
   "outputs": [],
   "source": [
    "import numpy as np\n",
    "import tensorflow as tf\n",
    "from tensorflow.keras.models import Sequential\n",
    "from tensorflow.keras.layers import Dense\n",
    "from sklearn.model_selection import train_test_split"
   ]
  },
  {
   "cell_type": "code",
   "execution_count": 2,
   "id": "7ca4c1fa",
   "metadata": {
    "execution": {
     "iopub.execute_input": "2023-12-25T04:41:43.760907Z",
     "iopub.status.busy": "2023-12-25T04:41:43.760244Z",
     "iopub.status.idle": "2023-12-25T04:41:43.766117Z",
     "shell.execute_reply": "2023-12-25T04:41:43.765164Z"
    },
    "papermill": {
     "duration": 0.012439,
     "end_time": "2023-12-25T04:41:43.767941",
     "exception": false,
     "start_time": "2023-12-25T04:41:43.755502",
     "status": "completed"
    },
    "tags": []
   },
   "outputs": [],
   "source": [
    "# Manually define features and labels\n",
    "data = np.array([[0.2, 0.8], [0.5, 0.3], [0.7, 0.9], [0.1, 0.5], [0.6, 0.4],\n",
    "                 [0.9, 0.3], [0.3, 0.7], [0.8, 0.6], [0.4, 0.2], [0.2, 0.2]])\n",
    "labels = np.array([0, 1, 2, 0, 1, 2, 0, 1, 2, 0])\n"
   ]
  },
  {
   "cell_type": "code",
   "execution_count": 3,
   "id": "eff688e3",
   "metadata": {
    "execution": {
     "iopub.execute_input": "2023-12-25T04:41:43.777147Z",
     "iopub.status.busy": "2023-12-25T04:41:43.776745Z",
     "iopub.status.idle": "2023-12-25T04:41:43.782252Z",
     "shell.execute_reply": "2023-12-25T04:41:43.781156Z"
    },
    "papermill": {
     "duration": 0.013568,
     "end_time": "2023-12-25T04:41:43.785116",
     "exception": false,
     "start_time": "2023-12-25T04:41:43.771548",
     "status": "completed"
    },
    "tags": []
   },
   "outputs": [],
   "source": [
    "# Convert labels to one-hot encoding\n",
    "labels_one_hot = tf.keras.utils.to_categorical(labels, num_classes=3)"
   ]
  },
  {
   "cell_type": "code",
   "execution_count": 4,
   "id": "e42a7d6d",
   "metadata": {
    "execution": {
     "iopub.execute_input": "2023-12-25T04:41:43.793690Z",
     "iopub.status.busy": "2023-12-25T04:41:43.793357Z",
     "iopub.status.idle": "2023-12-25T04:41:43.800838Z",
     "shell.execute_reply": "2023-12-25T04:41:43.799800Z"
    },
    "papermill": {
     "duration": 0.014281,
     "end_time": "2023-12-25T04:41:43.803035",
     "exception": false,
     "start_time": "2023-12-25T04:41:43.788754",
     "status": "completed"
    },
    "tags": []
   },
   "outputs": [],
   "source": [
    "# Split the data into training and testing sets\n",
    "X_train, X_test, y_train, y_test = train_test_split(data, labels_one_hot, test_size=0.2, random_state=42)"
   ]
  },
  {
   "cell_type": "code",
   "execution_count": 5,
   "id": "2aa26093",
   "metadata": {
    "execution": {
     "iopub.execute_input": "2023-12-25T04:41:43.812105Z",
     "iopub.status.busy": "2023-12-25T04:41:43.810831Z",
     "iopub.status.idle": "2023-12-25T04:41:44.001076Z",
     "shell.execute_reply": "2023-12-25T04:41:43.999853Z"
    },
    "papermill": {
     "duration": 0.196969,
     "end_time": "2023-12-25T04:41:44.003541",
     "exception": false,
     "start_time": "2023-12-25T04:41:43.806572",
     "status": "completed"
    },
    "tags": []
   },
   "outputs": [],
   "source": [
    "# Build the neural network\n",
    "model = Sequential()\n",
    "model.add(Dense(4, input_dim=2, activation='relu'))  # 2 input features, 4 neurons in the hidden layer\n",
    "model.add(Dense(6, activation='relu')) ## second hidden layer\n",
    "model.add(Dense(2, activation='relu')) ## 3rd hidden layer\n",
    "model.add(Dense(3, activation='softmax'))  # 3 output neurons for 3 classes, softmax for classification"
   ]
  },
  {
   "cell_type": "code",
   "execution_count": 6,
   "id": "8fc6ed57",
   "metadata": {
    "execution": {
     "iopub.execute_input": "2023-12-25T04:41:44.012382Z",
     "iopub.status.busy": "2023-12-25T04:41:44.012001Z",
     "iopub.status.idle": "2023-12-25T04:41:44.242884Z",
     "shell.execute_reply": "2023-12-25T04:41:44.241831Z"
    },
    "papermill": {
     "duration": 0.238496,
     "end_time": "2023-12-25T04:41:44.245644",
     "exception": false,
     "start_time": "2023-12-25T04:41:44.007148",
     "status": "completed"
    },
    "tags": []
   },
   "outputs": [],
   "source": [
    "# Compile the model\n",
    "model.compile(loss='categorical_crossentropy', optimizer='adam', metrics=['accuracy'])"
   ]
  },
  {
   "cell_type": "code",
   "execution_count": 7,
   "id": "aae0af3a",
   "metadata": {
    "execution": {
     "iopub.execute_input": "2023-12-25T04:41:44.254699Z",
     "iopub.status.busy": "2023-12-25T04:41:44.253709Z",
     "iopub.status.idle": "2023-12-25T04:41:47.664969Z",
     "shell.execute_reply": "2023-12-25T04:41:47.663563Z"
    },
    "papermill": {
     "duration": 3.418331,
     "end_time": "2023-12-25T04:41:47.667510",
     "exception": false,
     "start_time": "2023-12-25T04:41:44.249179",
     "status": "completed"
    },
    "tags": []
   },
   "outputs": [
    {
     "name": "stdout",
     "output_type": "stream",
     "text": [
      "Epoch 1/150\n",
      "1/1 [==============================] - 1s 792ms/step - loss: 1.0945 - accuracy: 0.2500\n",
      "Epoch 2/150\n",
      "1/1 [==============================] - 0s 7ms/step - loss: 1.0937 - accuracy: 0.2500\n",
      "Epoch 3/150\n",
      "1/1 [==============================] - 0s 7ms/step - loss: 1.0929 - accuracy: 0.2500\n",
      "Epoch 4/150\n",
      "1/1 [==============================] - 0s 6ms/step - loss: 1.0920 - accuracy: 0.2500\n",
      "Epoch 5/150\n",
      "1/1 [==============================] - 0s 7ms/step - loss: 1.0912 - accuracy: 0.2500\n",
      "Epoch 6/150\n",
      "1/1 [==============================] - 0s 8ms/step - loss: 1.0904 - accuracy: 0.2500\n",
      "Epoch 7/150\n",
      "1/1 [==============================] - 0s 8ms/step - loss: 1.0896 - accuracy: 0.2500\n",
      "Epoch 8/150\n",
      "1/1 [==============================] - 0s 7ms/step - loss: 1.0887 - accuracy: 0.2500\n",
      "Epoch 9/150\n",
      "1/1 [==============================] - 0s 8ms/step - loss: 1.0879 - accuracy: 0.2500\n",
      "Epoch 10/150\n",
      "1/1 [==============================] - 0s 8ms/step - loss: 1.0871 - accuracy: 0.2500\n",
      "Epoch 11/150\n",
      "1/1 [==============================] - 0s 6ms/step - loss: 1.0863 - accuracy: 0.2500\n",
      "Epoch 12/150\n",
      "1/1 [==============================] - 0s 8ms/step - loss: 1.0855 - accuracy: 0.3750\n",
      "Epoch 13/150\n",
      "1/1 [==============================] - 0s 7ms/step - loss: 1.0847 - accuracy: 0.3750\n",
      "Epoch 14/150\n",
      "1/1 [==============================] - 0s 7ms/step - loss: 1.0840 - accuracy: 0.3750\n",
      "Epoch 15/150\n",
      "1/1 [==============================] - 0s 5ms/step - loss: 1.0832 - accuracy: 0.3750\n",
      "Epoch 16/150\n",
      "1/1 [==============================] - 0s 8ms/step - loss: 1.0824 - accuracy: 0.3750\n",
      "Epoch 17/150\n",
      "1/1 [==============================] - 0s 7ms/step - loss: 1.0816 - accuracy: 0.3750\n",
      "Epoch 18/150\n",
      "1/1 [==============================] - 0s 7ms/step - loss: 1.0808 - accuracy: 0.3750\n",
      "Epoch 19/150\n",
      "1/1 [==============================] - 0s 7ms/step - loss: 1.0800 - accuracy: 0.5000\n",
      "Epoch 20/150\n",
      "1/1 [==============================] - 0s 7ms/step - loss: 1.0792 - accuracy: 0.6250\n",
      "Epoch 21/150\n",
      "1/1 [==============================] - 0s 8ms/step - loss: 1.0784 - accuracy: 0.6250\n",
      "Epoch 22/150\n",
      "1/1 [==============================] - 0s 8ms/step - loss: 1.0776 - accuracy: 0.6250\n",
      "Epoch 23/150\n",
      "1/1 [==============================] - 0s 9ms/step - loss: 1.0767 - accuracy: 0.6250\n",
      "Epoch 24/150\n",
      "1/1 [==============================] - 0s 9ms/step - loss: 1.0759 - accuracy: 0.6250\n",
      "Epoch 25/150\n",
      "1/1 [==============================] - 0s 9ms/step - loss: 1.0751 - accuracy: 0.6250\n",
      "Epoch 26/150\n",
      "1/1 [==============================] - 0s 9ms/step - loss: 1.0743 - accuracy: 0.6250\n",
      "Epoch 27/150\n",
      "1/1 [==============================] - 0s 7ms/step - loss: 1.0736 - accuracy: 0.7500\n",
      "Epoch 28/150\n",
      "1/1 [==============================] - 0s 5ms/step - loss: 1.0729 - accuracy: 0.7500\n",
      "Epoch 29/150\n",
      "1/1 [==============================] - 0s 8ms/step - loss: 1.0722 - accuracy: 0.7500\n",
      "Epoch 30/150\n",
      "1/1 [==============================] - 0s 8ms/step - loss: 1.0715 - accuracy: 0.7500\n",
      "Epoch 31/150\n",
      "1/1 [==============================] - 0s 7ms/step - loss: 1.0707 - accuracy: 0.7500\n",
      "Epoch 32/150\n",
      "1/1 [==============================] - 0s 6ms/step - loss: 1.0700 - accuracy: 0.7500\n",
      "Epoch 33/150\n",
      "1/1 [==============================] - 0s 7ms/step - loss: 1.0693 - accuracy: 0.7500\n",
      "Epoch 34/150\n",
      "1/1 [==============================] - 0s 6ms/step - loss: 1.0686 - accuracy: 0.7500\n",
      "Epoch 35/150\n",
      "1/1 [==============================] - 0s 9ms/step - loss: 1.0679 - accuracy: 0.7500\n",
      "Epoch 36/150\n",
      "1/1 [==============================] - 0s 7ms/step - loss: 1.0671 - accuracy: 0.7500\n",
      "Epoch 37/150\n",
      "1/1 [==============================] - 0s 6ms/step - loss: 1.0664 - accuracy: 0.7500\n",
      "Epoch 38/150\n",
      "1/1 [==============================] - 0s 7ms/step - loss: 1.0657 - accuracy: 0.7500\n",
      "Epoch 39/150\n",
      "1/1 [==============================] - 0s 10ms/step - loss: 1.0649 - accuracy: 0.7500\n",
      "Epoch 40/150\n",
      "1/1 [==============================] - 0s 9ms/step - loss: 1.0642 - accuracy: 0.7500\n",
      "Epoch 41/150\n",
      "1/1 [==============================] - 0s 7ms/step - loss: 1.0634 - accuracy: 0.7500\n",
      "Epoch 42/150\n",
      "1/1 [==============================] - 0s 6ms/step - loss: 1.0627 - accuracy: 0.7500\n",
      "Epoch 43/150\n",
      "1/1 [==============================] - 0s 8ms/step - loss: 1.0619 - accuracy: 0.7500\n",
      "Epoch 44/150\n",
      "1/1 [==============================] - 0s 8ms/step - loss: 1.0612 - accuracy: 0.7500\n",
      "Epoch 45/150\n",
      "1/1 [==============================] - 0s 6ms/step - loss: 1.0605 - accuracy: 0.7500\n",
      "Epoch 46/150\n",
      "1/1 [==============================] - 0s 7ms/step - loss: 1.0598 - accuracy: 0.7500\n",
      "Epoch 47/150\n",
      "1/1 [==============================] - 0s 8ms/step - loss: 1.0591 - accuracy: 0.7500\n",
      "Epoch 48/150\n",
      "1/1 [==============================] - 0s 6ms/step - loss: 1.0584 - accuracy: 0.7500\n",
      "Epoch 49/150\n",
      "1/1 [==============================] - 0s 6ms/step - loss: 1.0577 - accuracy: 0.7500\n",
      "Epoch 50/150\n",
      "1/1 [==============================] - 0s 6ms/step - loss: 1.0570 - accuracy: 0.7500\n",
      "Epoch 51/150\n",
      "1/1 [==============================] - 0s 5ms/step - loss: 1.0563 - accuracy: 0.7500\n",
      "Epoch 52/150\n",
      "1/1 [==============================] - 0s 7ms/step - loss: 1.0556 - accuracy: 0.7500\n",
      "Epoch 53/150\n",
      "1/1 [==============================] - 0s 7ms/step - loss: 1.0549 - accuracy: 0.7500\n",
      "Epoch 54/150\n",
      "1/1 [==============================] - 0s 7ms/step - loss: 1.0542 - accuracy: 0.7500\n",
      "Epoch 55/150\n",
      "1/1 [==============================] - 0s 7ms/step - loss: 1.0535 - accuracy: 0.7500\n",
      "Epoch 56/150\n",
      "1/1 [==============================] - 0s 8ms/step - loss: 1.0528 - accuracy: 0.7500\n",
      "Epoch 57/150\n",
      "1/1 [==============================] - 0s 9ms/step - loss: 1.0520 - accuracy: 0.7500\n",
      "Epoch 58/150\n",
      "1/1 [==============================] - 0s 10ms/step - loss: 1.0513 - accuracy: 0.7500\n",
      "Epoch 59/150\n",
      "1/1 [==============================] - 0s 5ms/step - loss: 1.0506 - accuracy: 0.7500\n",
      "Epoch 60/150\n",
      "1/1 [==============================] - 0s 5ms/step - loss: 1.0498 - accuracy: 0.7500\n",
      "Epoch 61/150\n",
      "1/1 [==============================] - 0s 5ms/step - loss: 1.0491 - accuracy: 0.7500\n",
      "Epoch 62/150\n",
      "1/1 [==============================] - 0s 5ms/step - loss: 1.0483 - accuracy: 0.7500\n",
      "Epoch 63/150\n",
      "1/1 [==============================] - 0s 8ms/step - loss: 1.0476 - accuracy: 0.7500\n",
      "Epoch 64/150\n",
      "1/1 [==============================] - 0s 6ms/step - loss: 1.0468 - accuracy: 0.7500\n",
      "Epoch 65/150\n",
      "1/1 [==============================] - 0s 7ms/step - loss: 1.0460 - accuracy: 0.7500\n",
      "Epoch 66/150\n",
      "1/1 [==============================] - 0s 8ms/step - loss: 1.0452 - accuracy: 0.7500\n",
      "Epoch 67/150\n",
      "1/1 [==============================] - 0s 8ms/step - loss: 1.0445 - accuracy: 0.7500\n",
      "Epoch 68/150\n",
      "1/1 [==============================] - 0s 8ms/step - loss: 1.0437 - accuracy: 0.7500\n",
      "Epoch 69/150\n",
      "1/1 [==============================] - 0s 8ms/step - loss: 1.0429 - accuracy: 0.7500\n",
      "Epoch 70/150\n",
      "1/1 [==============================] - 0s 8ms/step - loss: 1.0420 - accuracy: 0.7500\n",
      "Epoch 71/150\n",
      "1/1 [==============================] - 0s 8ms/step - loss: 1.0412 - accuracy: 0.7500\n",
      "Epoch 72/150\n",
      "1/1 [==============================] - 0s 7ms/step - loss: 1.0403 - accuracy: 0.7500\n",
      "Epoch 73/150\n",
      "1/1 [==============================] - 0s 6ms/step - loss: 1.0394 - accuracy: 0.7500\n",
      "Epoch 74/150\n",
      "1/1 [==============================] - 0s 6ms/step - loss: 1.0385 - accuracy: 0.7500\n",
      "Epoch 75/150\n",
      "1/1 [==============================] - 0s 9ms/step - loss: 1.0376 - accuracy: 0.7500\n",
      "Epoch 76/150\n",
      "1/1 [==============================] - 0s 9ms/step - loss: 1.0367 - accuracy: 0.7500\n",
      "Epoch 77/150\n",
      "1/1 [==============================] - 0s 8ms/step - loss: 1.0358 - accuracy: 0.7500\n",
      "Epoch 78/150\n",
      "1/1 [==============================] - 0s 9ms/step - loss: 1.0349 - accuracy: 0.7500\n",
      "Epoch 79/150\n",
      "1/1 [==============================] - 0s 8ms/step - loss: 1.0339 - accuracy: 0.7500\n",
      "Epoch 80/150\n",
      "1/1 [==============================] - 0s 8ms/step - loss: 1.0330 - accuracy: 0.7500\n",
      "Epoch 81/150\n",
      "1/1 [==============================] - 0s 7ms/step - loss: 1.0320 - accuracy: 0.7500\n",
      "Epoch 82/150\n",
      "1/1 [==============================] - 0s 7ms/step - loss: 1.0311 - accuracy: 0.7500\n",
      "Epoch 83/150\n",
      "1/1 [==============================] - 0s 7ms/step - loss: 1.0301 - accuracy: 0.7500\n",
      "Epoch 84/150\n",
      "1/1 [==============================] - 0s 9ms/step - loss: 1.0291 - accuracy: 0.7500\n",
      "Epoch 85/150\n",
      "1/1 [==============================] - 0s 6ms/step - loss: 1.0281 - accuracy: 0.7500\n",
      "Epoch 86/150\n",
      "1/1 [==============================] - 0s 8ms/step - loss: 1.0271 - accuracy: 0.7500\n",
      "Epoch 87/150\n",
      "1/1 [==============================] - 0s 7ms/step - loss: 1.0261 - accuracy: 0.7500\n",
      "Epoch 88/150\n",
      "1/1 [==============================] - 0s 6ms/step - loss: 1.0251 - accuracy: 0.7500\n",
      "Epoch 89/150\n",
      "1/1 [==============================] - 0s 9ms/step - loss: 1.0241 - accuracy: 0.7500\n",
      "Epoch 90/150\n",
      "1/1 [==============================] - 0s 6ms/step - loss: 1.0231 - accuracy: 0.7500\n",
      "Epoch 91/150\n",
      "1/1 [==============================] - 0s 6ms/step - loss: 1.0221 - accuracy: 0.7500\n",
      "Epoch 92/150\n",
      "1/1 [==============================] - 0s 7ms/step - loss: 1.0211 - accuracy: 0.7500\n",
      "Epoch 93/150\n",
      "1/1 [==============================] - 0s 11ms/step - loss: 1.0200 - accuracy: 0.7500\n",
      "Epoch 94/150\n",
      "1/1 [==============================] - 0s 6ms/step - loss: 1.0190 - accuracy: 0.7500\n",
      "Epoch 95/150\n",
      "1/1 [==============================] - 0s 7ms/step - loss: 1.0180 - accuracy: 0.7500\n",
      "Epoch 96/150\n",
      "1/1 [==============================] - 0s 8ms/step - loss: 1.0170 - accuracy: 0.7500\n",
      "Epoch 97/150\n",
      "1/1 [==============================] - 0s 6ms/step - loss: 1.0161 - accuracy: 0.7500\n",
      "Epoch 98/150\n",
      "1/1 [==============================] - 0s 7ms/step - loss: 1.0152 - accuracy: 0.7500\n",
      "Epoch 99/150\n",
      "1/1 [==============================] - 0s 7ms/step - loss: 1.0143 - accuracy: 0.7500\n",
      "Epoch 100/150\n",
      "1/1 [==============================] - 0s 7ms/step - loss: 1.0133 - accuracy: 0.7500\n",
      "Epoch 101/150\n",
      "1/1 [==============================] - 0s 6ms/step - loss: 1.0123 - accuracy: 0.7500\n",
      "Epoch 102/150\n",
      "1/1 [==============================] - 0s 8ms/step - loss: 1.0114 - accuracy: 0.7500\n",
      "Epoch 103/150\n",
      "1/1 [==============================] - 0s 9ms/step - loss: 1.0104 - accuracy: 0.7500\n",
      "Epoch 104/150\n",
      "1/1 [==============================] - 0s 7ms/step - loss: 1.0093 - accuracy: 0.7500\n",
      "Epoch 105/150\n",
      "1/1 [==============================] - 0s 8ms/step - loss: 1.0083 - accuracy: 0.7500\n",
      "Epoch 106/150\n",
      "1/1 [==============================] - 0s 6ms/step - loss: 1.0073 - accuracy: 0.7500\n",
      "Epoch 107/150\n",
      "1/1 [==============================] - 0s 6ms/step - loss: 1.0063 - accuracy: 0.7500\n",
      "Epoch 108/150\n",
      "1/1 [==============================] - 0s 5ms/step - loss: 1.0052 - accuracy: 0.7500\n",
      "Epoch 109/150\n",
      "1/1 [==============================] - 0s 6ms/step - loss: 1.0041 - accuracy: 0.7500\n",
      "Epoch 110/150\n",
      "1/1 [==============================] - 0s 6ms/step - loss: 1.0031 - accuracy: 0.7500\n",
      "Epoch 111/150\n",
      "1/1 [==============================] - 0s 5ms/step - loss: 1.0021 - accuracy: 0.7500\n",
      "Epoch 112/150\n",
      "1/1 [==============================] - 0s 6ms/step - loss: 1.0011 - accuracy: 0.7500\n",
      "Epoch 113/150\n",
      "1/1 [==============================] - 0s 6ms/step - loss: 1.0001 - accuracy: 0.7500\n",
      "Epoch 114/150\n",
      "1/1 [==============================] - 0s 9ms/step - loss: 0.9990 - accuracy: 0.7500\n",
      "Epoch 115/150\n",
      "1/1 [==============================] - 0s 8ms/step - loss: 0.9979 - accuracy: 0.7500\n",
      "Epoch 116/150\n",
      "1/1 [==============================] - 0s 9ms/step - loss: 0.9968 - accuracy: 0.7500\n",
      "Epoch 117/150\n",
      "1/1 [==============================] - 0s 9ms/step - loss: 0.9957 - accuracy: 0.7500\n",
      "Epoch 118/150\n",
      "1/1 [==============================] - 0s 9ms/step - loss: 0.9946 - accuracy: 0.7500\n",
      "Epoch 119/150\n",
      "1/1 [==============================] - 0s 9ms/step - loss: 0.9936 - accuracy: 0.7500\n",
      "Epoch 120/150\n",
      "1/1 [==============================] - 0s 10ms/step - loss: 0.9925 - accuracy: 0.7500\n",
      "Epoch 121/150\n",
      "1/1 [==============================] - 0s 8ms/step - loss: 0.9914 - accuracy: 0.7500\n",
      "Epoch 122/150\n",
      "1/1 [==============================] - 0s 6ms/step - loss: 0.9903 - accuracy: 0.7500\n",
      "Epoch 123/150\n",
      "1/1 [==============================] - 0s 11ms/step - loss: 0.9892 - accuracy: 0.7500\n",
      "Epoch 124/150\n",
      "1/1 [==============================] - 0s 8ms/step - loss: 0.9881 - accuracy: 0.7500\n",
      "Epoch 125/150\n",
      "1/1 [==============================] - 0s 6ms/step - loss: 0.9870 - accuracy: 0.7500\n",
      "Epoch 126/150\n",
      "1/1 [==============================] - 0s 7ms/step - loss: 0.9858 - accuracy: 0.7500\n",
      "Epoch 127/150\n",
      "1/1 [==============================] - 0s 8ms/step - loss: 0.9847 - accuracy: 0.7500\n",
      "Epoch 128/150\n",
      "1/1 [==============================] - 0s 7ms/step - loss: 0.9836 - accuracy: 0.7500\n",
      "Epoch 129/150\n",
      "1/1 [==============================] - 0s 5ms/step - loss: 0.9824 - accuracy: 0.7500\n",
      "Epoch 130/150\n",
      "1/1 [==============================] - 0s 10ms/step - loss: 0.9813 - accuracy: 0.7500\n",
      "Epoch 131/150\n",
      "1/1 [==============================] - 0s 9ms/step - loss: 0.9801 - accuracy: 0.7500\n",
      "Epoch 132/150\n",
      "1/1 [==============================] - 0s 5ms/step - loss: 0.9789 - accuracy: 0.7500\n",
      "Epoch 133/150\n",
      "1/1 [==============================] - 0s 5ms/step - loss: 0.9778 - accuracy: 0.7500\n",
      "Epoch 134/150\n",
      "1/1 [==============================] - 0s 5ms/step - loss: 0.9766 - accuracy: 0.7500\n",
      "Epoch 135/150\n",
      "1/1 [==============================] - 0s 6ms/step - loss: 0.9754 - accuracy: 0.7500\n",
      "Epoch 136/150\n",
      "1/1 [==============================] - 0s 8ms/step - loss: 0.9742 - accuracy: 0.7500\n",
      "Epoch 137/150\n",
      "1/1 [==============================] - 0s 7ms/step - loss: 0.9730 - accuracy: 0.7500\n",
      "Epoch 138/150\n",
      "1/1 [==============================] - 0s 7ms/step - loss: 0.9718 - accuracy: 0.7500\n",
      "Epoch 139/150\n",
      "1/1 [==============================] - 0s 8ms/step - loss: 0.9706 - accuracy: 0.7500\n",
      "Epoch 140/150\n",
      "1/1 [==============================] - 0s 6ms/step - loss: 0.9694 - accuracy: 0.7500\n",
      "Epoch 141/150\n",
      "1/1 [==============================] - 0s 8ms/step - loss: 0.9682 - accuracy: 0.7500\n",
      "Epoch 142/150\n",
      "1/1 [==============================] - 0s 9ms/step - loss: 0.9670 - accuracy: 0.7500\n",
      "Epoch 143/150\n",
      "1/1 [==============================] - 0s 8ms/step - loss: 0.9657 - accuracy: 0.7500\n",
      "Epoch 144/150\n",
      "1/1 [==============================] - 0s 8ms/step - loss: 0.9645 - accuracy: 0.7500\n",
      "Epoch 145/150\n",
      "1/1 [==============================] - 0s 9ms/step - loss: 0.9632 - accuracy: 0.7500\n",
      "Epoch 146/150\n",
      "1/1 [==============================] - 0s 9ms/step - loss: 0.9620 - accuracy: 0.7500\n",
      "Epoch 147/150\n",
      "1/1 [==============================] - 0s 10ms/step - loss: 0.9607 - accuracy: 0.7500\n",
      "Epoch 148/150\n",
      "1/1 [==============================] - 0s 10ms/step - loss: 0.9595 - accuracy: 0.7500\n",
      "Epoch 149/150\n",
      "1/1 [==============================] - 0s 9ms/step - loss: 0.9582 - accuracy: 0.7500\n",
      "Epoch 150/150\n",
      "1/1 [==============================] - 0s 7ms/step - loss: 0.9570 - accuracy: 0.7500\n"
     ]
    },
    {
     "data": {
      "text/plain": [
       "<keras.src.callbacks.History at 0x7833b2d86440>"
      ]
     },
     "execution_count": 7,
     "metadata": {},
     "output_type": "execute_result"
    }
   ],
   "source": [
    "# Train the model on the training set\n",
    "model.fit(X_train, y_train, epochs=150)"
   ]
  },
  {
   "cell_type": "code",
   "execution_count": 8,
   "id": "797aee76",
   "metadata": {
    "execution": {
     "iopub.execute_input": "2023-12-25T04:41:47.728736Z",
     "iopub.status.busy": "2023-12-25T04:41:47.728335Z",
     "iopub.status.idle": "2023-12-25T04:41:47.956530Z",
     "shell.execute_reply": "2023-12-25T04:41:47.955018Z"
    },
    "papermill": {
     "duration": 0.2612,
     "end_time": "2023-12-25T04:41:47.958374",
     "exception": false,
     "start_time": "2023-12-25T04:41:47.697174",
     "status": "completed"
    },
    "tags": []
   },
   "outputs": [
    {
     "name": "stdout",
     "output_type": "stream",
     "text": [
      "1/1 [==============================] - 0s 158ms/step - loss: 1.0718 - accuracy: 0.5000\n",
      "Test Loss: 1.07181715965271\n",
      "Test Accuracy: 0.5\n"
     ]
    }
   ],
   "source": [
    "# Evaluate the model on the testing set\n",
    "loss, accuracy = model.evaluate(X_test, y_test)\n",
    "print(\"Test Loss:\",loss)\n",
    "print(\"Test Accuracy:\",accuracy)"
   ]
  },
  {
   "cell_type": "code",
   "execution_count": 9,
   "id": "1cb26c39",
   "metadata": {
    "execution": {
     "iopub.execute_input": "2023-12-25T04:41:48.021122Z",
     "iopub.status.busy": "2023-12-25T04:41:48.020719Z",
     "iopub.status.idle": "2023-12-25T04:41:48.152435Z",
     "shell.execute_reply": "2023-12-25T04:41:48.151434Z"
    },
    "papermill": {
     "duration": 0.166298,
     "end_time": "2023-12-25T04:41:48.154387",
     "exception": false,
     "start_time": "2023-12-25T04:41:47.988089",
     "status": "completed"
    },
    "tags": []
   },
   "outputs": [
    {
     "name": "stdout",
     "output_type": "stream",
     "text": [
      "1/1 [==============================] - 0s 88ms/step\n"
     ]
    }
   ],
   "source": [
    "# Make predictions on new data\n",
    "new_data = np.array([[0.3, 0.5], [0.6, 0.7], [0.8, 0.2]])  # New data points\n",
    "predictions = model.predict(new_data)"
   ]
  },
  {
   "cell_type": "code",
   "execution_count": 10,
   "id": "632b6d87",
   "metadata": {
    "execution": {
     "iopub.execute_input": "2023-12-25T04:41:48.217249Z",
     "iopub.status.busy": "2023-12-25T04:41:48.216822Z",
     "iopub.status.idle": "2023-12-25T04:41:48.222593Z",
     "shell.execute_reply": "2023-12-25T04:41:48.221300Z"
    },
    "papermill": {
     "duration": 0.040266,
     "end_time": "2023-12-25T04:41:48.225523",
     "exception": false,
     "start_time": "2023-12-25T04:41:48.185257",
     "status": "completed"
    },
    "tags": []
   },
   "outputs": [
    {
     "name": "stdout",
     "output_type": "stream",
     "text": [
      "Predictions:\n",
      "[[0.37928793 0.3107301  0.309982  ]\n",
      " [0.29107907 0.35747132 0.3514496 ]\n",
      " [0.27262935 0.36738235 0.35998827]]\n"
     ]
    }
   ],
   "source": [
    "# Print the predictions\n",
    "print(\"Predictions:\")\n",
    "print(predictions)"
   ]
  },
  {
   "cell_type": "code",
   "execution_count": 11,
   "id": "1da3d383",
   "metadata": {
    "execution": {
     "iopub.execute_input": "2023-12-25T04:41:48.288589Z",
     "iopub.status.busy": "2023-12-25T04:41:48.288020Z",
     "iopub.status.idle": "2023-12-25T04:41:48.292561Z",
     "shell.execute_reply": "2023-12-25T04:41:48.291159Z"
    },
    "papermill": {
     "duration": 0.039267,
     "end_time": "2023-12-25T04:41:48.295282",
     "exception": false,
     "start_time": "2023-12-25T04:41:48.256015",
     "status": "completed"
    },
    "tags": []
   },
   "outputs": [],
   "source": [
    "predicted_classes = np.argmax(predictions, axis=1)"
   ]
  },
  {
   "cell_type": "code",
   "execution_count": 12,
   "id": "f0c29e84",
   "metadata": {
    "execution": {
     "iopub.execute_input": "2023-12-25T04:41:48.415303Z",
     "iopub.status.busy": "2023-12-25T04:41:48.414945Z",
     "iopub.status.idle": "2023-12-25T04:41:48.420590Z",
     "shell.execute_reply": "2023-12-25T04:41:48.419712Z"
    },
    "papermill": {
     "duration": 0.097441,
     "end_time": "2023-12-25T04:41:48.423093",
     "exception": false,
     "start_time": "2023-12-25T04:41:48.325652",
     "status": "completed"
    },
    "tags": []
   },
   "outputs": [
    {
     "data": {
      "text/plain": [
       "array([0, 1, 1])"
      ]
     },
     "execution_count": 12,
     "metadata": {},
     "output_type": "execute_result"
    }
   ],
   "source": [
    "predicted_classes"
   ]
  },
  {
   "cell_type": "code",
   "execution_count": null,
   "id": "3c1978b4",
   "metadata": {
    "papermill": {
     "duration": 0.030112,
     "end_time": "2023-12-25T04:41:48.483591",
     "exception": false,
     "start_time": "2023-12-25T04:41:48.453479",
     "status": "completed"
    },
    "tags": []
   },
   "outputs": [],
   "source": []
  },
  {
   "cell_type": "code",
   "execution_count": null,
   "id": "fc60fc9a",
   "metadata": {
    "papermill": {
     "duration": 0.029911,
     "end_time": "2023-12-25T04:41:48.544209",
     "exception": false,
     "start_time": "2023-12-25T04:41:48.514298",
     "status": "completed"
    },
    "tags": []
   },
   "outputs": [],
   "source": []
  }
 ],
 "metadata": {
  "kaggle": {
   "accelerator": "none",
   "dataSources": [],
   "dockerImageVersionId": 30626,
   "isGpuEnabled": false,
   "isInternetEnabled": true,
   "language": "python",
   "sourceType": "notebook"
  },
  "kernelspec": {
   "display_name": "Python 3",
   "language": "python",
   "name": "python3"
  },
  "language_info": {
   "codemirror_mode": {
    "name": "ipython",
    "version": 3
   },
   "file_extension": ".py",
   "mimetype": "text/x-python",
   "name": "python",
   "nbconvert_exporter": "python",
   "pygments_lexer": "ipython3",
   "version": "3.10.12"
  },
  "papermill": {
   "default_parameters": {},
   "duration": 24.205638,
   "end_time": "2023-12-25T04:41:50.826484",
   "environment_variables": {},
   "exception": null,
   "input_path": "__notebook__.ipynb",
   "output_path": "__notebook__.ipynb",
   "parameters": {},
   "start_time": "2023-12-25T04:41:26.620846",
   "version": "2.4.0"
  }
 },
 "nbformat": 4,
 "nbformat_minor": 5
}
